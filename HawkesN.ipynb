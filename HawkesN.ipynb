{
  "nbformat": 4,
  "nbformat_minor": 0,
  "metadata": {
    "colab": {
      "name": "HawkesN.ipynb",
      "provenance": [],
      "collapsed_sections": [],
      "toc_visible": true,
      "include_colab_link": true
    },
    "kernelspec": {
      "name": "python3",
      "display_name": "Python 3"
    },
    "widgets": {
      "application/vnd.jupyter.widget-state+json": {
        "67a6cbb15e0f4d7aad9a0d48c6833558": {
          "model_module": "@jupyter-widgets/controls",
          "model_name": "HBoxModel",
          "state": {
            "_view_name": "HBoxView",
            "_dom_classes": [],
            "_model_name": "HBoxModel",
            "_view_module": "@jupyter-widgets/controls",
            "_model_module_version": "1.5.0",
            "_view_count": null,
            "_view_module_version": "1.5.0",
            "box_style": "",
            "layout": "IPY_MODEL_da5c37c660b147b9b5cefbb80b4064cd",
            "_model_module": "@jupyter-widgets/controls",
            "children": [
              "IPY_MODEL_575f946676c44d2ab282d3de9c57b9d8",
              "IPY_MODEL_7f5cb9fdc75e49af9a6a8a8bf64e7fc2"
            ]
          }
        },
        "da5c37c660b147b9b5cefbb80b4064cd": {
          "model_module": "@jupyter-widgets/base",
          "model_name": "LayoutModel",
          "state": {
            "_view_name": "LayoutView",
            "grid_template_rows": null,
            "right": null,
            "justify_content": null,
            "_view_module": "@jupyter-widgets/base",
            "overflow": null,
            "_model_module_version": "1.2.0",
            "_view_count": null,
            "flex_flow": null,
            "width": null,
            "min_width": null,
            "border": null,
            "align_items": null,
            "bottom": null,
            "_model_module": "@jupyter-widgets/base",
            "top": null,
            "grid_column": null,
            "overflow_y": null,
            "overflow_x": null,
            "grid_auto_flow": null,
            "grid_area": null,
            "grid_template_columns": null,
            "flex": null,
            "_model_name": "LayoutModel",
            "justify_items": null,
            "grid_row": null,
            "max_height": null,
            "align_content": null,
            "visibility": null,
            "align_self": null,
            "height": null,
            "min_height": null,
            "padding": null,
            "grid_auto_rows": null,
            "grid_gap": null,
            "max_width": null,
            "order": null,
            "_view_module_version": "1.2.0",
            "grid_template_areas": null,
            "object_position": null,
            "object_fit": null,
            "grid_auto_columns": null,
            "margin": null,
            "display": null,
            "left": null
          }
        },
        "575f946676c44d2ab282d3de9c57b9d8": {
          "model_module": "@jupyter-widgets/controls",
          "model_name": "FloatProgressModel",
          "state": {
            "_view_name": "ProgressView",
            "style": "IPY_MODEL_12097e92602344dfa3af4f2dd9cb0f29",
            "_dom_classes": [],
            "description": " 26%",
            "_model_name": "FloatProgressModel",
            "bar_style": "danger",
            "max": 20100,
            "_view_module": "@jupyter-widgets/controls",
            "_model_module_version": "1.5.0",
            "value": 5290,
            "_view_count": null,
            "_view_module_version": "1.5.0",
            "orientation": "horizontal",
            "min": 0,
            "description_tooltip": null,
            "_model_module": "@jupyter-widgets/controls",
            "layout": "IPY_MODEL_f17f58dfa80149a7a3183d37376cd965"
          }
        },
        "7f5cb9fdc75e49af9a6a8a8bf64e7fc2": {
          "model_module": "@jupyter-widgets/controls",
          "model_name": "HTMLModel",
          "state": {
            "_view_name": "HTMLView",
            "style": "IPY_MODEL_0b647d8f789143ff901c7d8f71fdfb9e",
            "_dom_classes": [],
            "description": "",
            "_model_name": "HTMLModel",
            "placeholder": "​",
            "_view_module": "@jupyter-widgets/controls",
            "_model_module_version": "1.5.0",
            "value": " 5290/20100 [01:10&lt;02:13, 110.72it/s]",
            "_view_count": null,
            "_view_module_version": "1.5.0",
            "description_tooltip": null,
            "_model_module": "@jupyter-widgets/controls",
            "layout": "IPY_MODEL_06c279eab2a74cc0b38918c71c6b01de"
          }
        },
        "12097e92602344dfa3af4f2dd9cb0f29": {
          "model_module": "@jupyter-widgets/controls",
          "model_name": "ProgressStyleModel",
          "state": {
            "_view_name": "StyleView",
            "_model_name": "ProgressStyleModel",
            "description_width": "initial",
            "_view_module": "@jupyter-widgets/base",
            "_model_module_version": "1.5.0",
            "_view_count": null,
            "_view_module_version": "1.2.0",
            "bar_color": null,
            "_model_module": "@jupyter-widgets/controls"
          }
        },
        "f17f58dfa80149a7a3183d37376cd965": {
          "model_module": "@jupyter-widgets/base",
          "model_name": "LayoutModel",
          "state": {
            "_view_name": "LayoutView",
            "grid_template_rows": null,
            "right": null,
            "justify_content": null,
            "_view_module": "@jupyter-widgets/base",
            "overflow": null,
            "_model_module_version": "1.2.0",
            "_view_count": null,
            "flex_flow": null,
            "width": null,
            "min_width": null,
            "border": null,
            "align_items": null,
            "bottom": null,
            "_model_module": "@jupyter-widgets/base",
            "top": null,
            "grid_column": null,
            "overflow_y": null,
            "overflow_x": null,
            "grid_auto_flow": null,
            "grid_area": null,
            "grid_template_columns": null,
            "flex": null,
            "_model_name": "LayoutModel",
            "justify_items": null,
            "grid_row": null,
            "max_height": null,
            "align_content": null,
            "visibility": null,
            "align_self": null,
            "height": null,
            "min_height": null,
            "padding": null,
            "grid_auto_rows": null,
            "grid_gap": null,
            "max_width": null,
            "order": null,
            "_view_module_version": "1.2.0",
            "grid_template_areas": null,
            "object_position": null,
            "object_fit": null,
            "grid_auto_columns": null,
            "margin": null,
            "display": null,
            "left": null
          }
        },
        "0b647d8f789143ff901c7d8f71fdfb9e": {
          "model_module": "@jupyter-widgets/controls",
          "model_name": "DescriptionStyleModel",
          "state": {
            "_view_name": "StyleView",
            "_model_name": "DescriptionStyleModel",
            "description_width": "",
            "_view_module": "@jupyter-widgets/base",
            "_model_module_version": "1.5.0",
            "_view_count": null,
            "_view_module_version": "1.2.0",
            "_model_module": "@jupyter-widgets/controls"
          }
        },
        "06c279eab2a74cc0b38918c71c6b01de": {
          "model_module": "@jupyter-widgets/base",
          "model_name": "LayoutModel",
          "state": {
            "_view_name": "LayoutView",
            "grid_template_rows": null,
            "right": null,
            "justify_content": null,
            "_view_module": "@jupyter-widgets/base",
            "overflow": null,
            "_model_module_version": "1.2.0",
            "_view_count": null,
            "flex_flow": null,
            "width": null,
            "min_width": null,
            "border": null,
            "align_items": null,
            "bottom": null,
            "_model_module": "@jupyter-widgets/base",
            "top": null,
            "grid_column": null,
            "overflow_y": null,
            "overflow_x": null,
            "grid_auto_flow": null,
            "grid_area": null,
            "grid_template_columns": null,
            "flex": null,
            "_model_name": "LayoutModel",
            "justify_items": null,
            "grid_row": null,
            "max_height": null,
            "align_content": null,
            "visibility": null,
            "align_self": null,
            "height": null,
            "min_height": null,
            "padding": null,
            "grid_auto_rows": null,
            "grid_gap": null,
            "max_width": null,
            "order": null,
            "_view_module_version": "1.2.0",
            "grid_template_areas": null,
            "object_position": null,
            "object_fit": null,
            "grid_auto_columns": null,
            "margin": null,
            "display": null,
            "left": null
          }
        },
        "d6ebf5c02d964e309011d140ef3c805c": {
          "model_module": "@jupyter-widgets/controls",
          "model_name": "HBoxModel",
          "state": {
            "_view_name": "HBoxView",
            "_dom_classes": [],
            "_model_name": "HBoxModel",
            "_view_module": "@jupyter-widgets/controls",
            "_model_module_version": "1.5.0",
            "_view_count": null,
            "_view_module_version": "1.5.0",
            "box_style": "",
            "layout": "IPY_MODEL_28e49a7bc3dc4b0b94dfa12278053e89",
            "_model_module": "@jupyter-widgets/controls",
            "children": [
              "IPY_MODEL_4ebdc2f2d3b744b8a69ee3e00d54bdeb",
              "IPY_MODEL_af8b2e873a13448f8cb39dd26d8d908c"
            ]
          }
        },
        "28e49a7bc3dc4b0b94dfa12278053e89": {
          "model_module": "@jupyter-widgets/base",
          "model_name": "LayoutModel",
          "state": {
            "_view_name": "LayoutView",
            "grid_template_rows": null,
            "right": null,
            "justify_content": null,
            "_view_module": "@jupyter-widgets/base",
            "overflow": null,
            "_model_module_version": "1.2.0",
            "_view_count": null,
            "flex_flow": null,
            "width": null,
            "min_width": null,
            "border": null,
            "align_items": null,
            "bottom": null,
            "_model_module": "@jupyter-widgets/base",
            "top": null,
            "grid_column": null,
            "overflow_y": null,
            "overflow_x": null,
            "grid_auto_flow": null,
            "grid_area": null,
            "grid_template_columns": null,
            "flex": null,
            "_model_name": "LayoutModel",
            "justify_items": null,
            "grid_row": null,
            "max_height": null,
            "align_content": null,
            "visibility": null,
            "align_self": null,
            "height": null,
            "min_height": null,
            "padding": null,
            "grid_auto_rows": null,
            "grid_gap": null,
            "max_width": null,
            "order": null,
            "_view_module_version": "1.2.0",
            "grid_template_areas": null,
            "object_position": null,
            "object_fit": null,
            "grid_auto_columns": null,
            "margin": null,
            "display": null,
            "left": null
          }
        },
        "4ebdc2f2d3b744b8a69ee3e00d54bdeb": {
          "model_module": "@jupyter-widgets/controls",
          "model_name": "FloatProgressModel",
          "state": {
            "_view_name": "ProgressView",
            "style": "IPY_MODEL_11745eb2445a4d46b0dcc6afd7928bf2",
            "_dom_classes": [],
            "description": "100%",
            "_model_name": "FloatProgressModel",
            "bar_style": "success",
            "max": 5100,
            "_view_module": "@jupyter-widgets/controls",
            "_model_module_version": "1.5.0",
            "value": 5100,
            "_view_count": null,
            "_view_module_version": "1.5.0",
            "orientation": "horizontal",
            "min": 0,
            "description_tooltip": null,
            "_model_module": "@jupyter-widgets/controls",
            "layout": "IPY_MODEL_dfad2999995040e0af291463e9603811"
          }
        },
        "af8b2e873a13448f8cb39dd26d8d908c": {
          "model_module": "@jupyter-widgets/controls",
          "model_name": "HTMLModel",
          "state": {
            "_view_name": "HTMLView",
            "style": "IPY_MODEL_621149ece91e4073b85347da0118ba66",
            "_dom_classes": [],
            "description": "",
            "_model_name": "HTMLModel",
            "placeholder": "​",
            "_view_module": "@jupyter-widgets/controls",
            "_model_module_version": "1.5.0",
            "value": " 5100/5100 [01:09&lt;00:00, 73.78it/s]",
            "_view_count": null,
            "_view_module_version": "1.5.0",
            "description_tooltip": null,
            "_model_module": "@jupyter-widgets/controls",
            "layout": "IPY_MODEL_2a26c04bbffb42b3930b65d4758d9870"
          }
        },
        "11745eb2445a4d46b0dcc6afd7928bf2": {
          "model_module": "@jupyter-widgets/controls",
          "model_name": "ProgressStyleModel",
          "state": {
            "_view_name": "StyleView",
            "_model_name": "ProgressStyleModel",
            "description_width": "initial",
            "_view_module": "@jupyter-widgets/base",
            "_model_module_version": "1.5.0",
            "_view_count": null,
            "_view_module_version": "1.2.0",
            "bar_color": null,
            "_model_module": "@jupyter-widgets/controls"
          }
        },
        "dfad2999995040e0af291463e9603811": {
          "model_module": "@jupyter-widgets/base",
          "model_name": "LayoutModel",
          "state": {
            "_view_name": "LayoutView",
            "grid_template_rows": null,
            "right": null,
            "justify_content": null,
            "_view_module": "@jupyter-widgets/base",
            "overflow": null,
            "_model_module_version": "1.2.0",
            "_view_count": null,
            "flex_flow": null,
            "width": null,
            "min_width": null,
            "border": null,
            "align_items": null,
            "bottom": null,
            "_model_module": "@jupyter-widgets/base",
            "top": null,
            "grid_column": null,
            "overflow_y": null,
            "overflow_x": null,
            "grid_auto_flow": null,
            "grid_area": null,
            "grid_template_columns": null,
            "flex": null,
            "_model_name": "LayoutModel",
            "justify_items": null,
            "grid_row": null,
            "max_height": null,
            "align_content": null,
            "visibility": null,
            "align_self": null,
            "height": null,
            "min_height": null,
            "padding": null,
            "grid_auto_rows": null,
            "grid_gap": null,
            "max_width": null,
            "order": null,
            "_view_module_version": "1.2.0",
            "grid_template_areas": null,
            "object_position": null,
            "object_fit": null,
            "grid_auto_columns": null,
            "margin": null,
            "display": null,
            "left": null
          }
        },
        "621149ece91e4073b85347da0118ba66": {
          "model_module": "@jupyter-widgets/controls",
          "model_name": "DescriptionStyleModel",
          "state": {
            "_view_name": "StyleView",
            "_model_name": "DescriptionStyleModel",
            "description_width": "",
            "_view_module": "@jupyter-widgets/base",
            "_model_module_version": "1.5.0",
            "_view_count": null,
            "_view_module_version": "1.2.0",
            "_model_module": "@jupyter-widgets/controls"
          }
        },
        "2a26c04bbffb42b3930b65d4758d9870": {
          "model_module": "@jupyter-widgets/base",
          "model_name": "LayoutModel",
          "state": {
            "_view_name": "LayoutView",
            "grid_template_rows": null,
            "right": null,
            "justify_content": null,
            "_view_module": "@jupyter-widgets/base",
            "overflow": null,
            "_model_module_version": "1.2.0",
            "_view_count": null,
            "flex_flow": null,
            "width": null,
            "min_width": null,
            "border": null,
            "align_items": null,
            "bottom": null,
            "_model_module": "@jupyter-widgets/base",
            "top": null,
            "grid_column": null,
            "overflow_y": null,
            "overflow_x": null,
            "grid_auto_flow": null,
            "grid_area": null,
            "grid_template_columns": null,
            "flex": null,
            "_model_name": "LayoutModel",
            "justify_items": null,
            "grid_row": null,
            "max_height": null,
            "align_content": null,
            "visibility": null,
            "align_self": null,
            "height": null,
            "min_height": null,
            "padding": null,
            "grid_auto_rows": null,
            "grid_gap": null,
            "max_width": null,
            "order": null,
            "_view_module_version": "1.2.0",
            "grid_template_areas": null,
            "object_position": null,
            "object_fit": null,
            "grid_auto_columns": null,
            "margin": null,
            "display": null,
            "left": null
          }
        }
      }
    }
  },
  "cells": [
    {
      "cell_type": "markdown",
      "metadata": {
        "id": "view-in-github",
        "colab_type": "text"
      },
      "source": [
        "<a href=\"https://colab.research.google.com/github/YushanH/NN-parameters-vs-accuracy/blob/master/HawkesN.ipynb\" target=\"_parent\"><img src=\"https://colab.research.google.com/assets/colab-badge.svg\" alt=\"Open In Colab\"/></a>"
      ]
    },
    {
      "cell_type": "markdown",
      "metadata": {
        "id": "rxHEQ-mdQ0fm",
        "colab_type": "text"
      },
      "source": [
        "# Import Data (California/LA county)"
      ]
    },
    {
      "cell_type": "code",
      "metadata": {
        "id": "8dWgfHIoS4vH",
        "colab_type": "code",
        "outputId": "f9011f52-734e-4281-c040-536a9557906d",
        "colab": {
          "base_uri": "https://localhost:8080/",
          "height": 993
        }
      },
      "source": [
        "import json\n",
        "import urllib\n",
        "import matplotlib as plt\n",
        "import numpy as np\n",
        "import pandas\n",
        "from pandas import DataFrame as DF\n",
        "import matplotlib.pyplot as plt\n",
        "# Load California Data from covidtracking.com\n",
        "\n",
        "# url = \"https://covidtracking.com/api/v1/states/daily.json\"\n",
        "# response = urllib.request.urlopen(url)\n",
        "# data = json.loads(response.read())\n",
        "# data_df = DF(data)\n",
        "# data_CA_df = data_df[data_df.state=='CA'].sort_index(ascending=False, axis=0)\n",
        "\n",
        "# infected = np.array(data_CA_df.positive, dtype=np.int64)\n",
        "# new_infected = np.array(data_CA_df.positiveIncrease, dtype=np.int64)\n",
        "# date = np.array(data_CA_df.date, dtype=np.int64)\n",
        "\n",
        "url = \"https://usafactsstatic.blob.core.windows.net/public/data/covid-19/covid_confirmed_usafacts.csv\"\n",
        "data = pandas.io.parsers.read_csv(url)\n",
        "#print(data)\n",
        "data_LA = data.loc[data[\"County Name\"] == \"Los Angeles County\"]\n",
        "#print(data_LA)\n",
        "date = data_LA.columns.tolist()[45:]\n",
        "infected = np.array(data_LA.iloc[0,45:], dtype=np.int64)\n",
        "#print(infected)\n",
        "# Smoothing data for 7-day average\n",
        "infected_smooth = np.zeros(infected.shape, dtype=np.int64)\n",
        "\n",
        "\n",
        "num_days = len(infected)\n",
        "for i in range(num_days):\n",
        "  if i-3 >= 0 and i+3 <= num_days-1:\n",
        "    infected_smooth[i] = int(sum(infected[i-3:i+4])/7)\n",
        "  else:\n",
        "    avg_range = min(i, num_days-1-i)\n",
        "    infected_smooth[i] = int(sum(infected[i-avg_range: i+avg_range+1])/(2*avg_range+1))\n",
        "\n",
        "np.set_printoptions(precision=4)\n",
        "np.set_printoptions(suppress=True)\n",
        "print(f\"first day: {date[0]}\")\n",
        "print(f\"last day: {date[-4]}\")\n",
        "print(\"Infected:\", infected)\n",
        "\n",
        "\n",
        "new_infected_smooth = np.diff(infected_smooth)\n",
        "new_infected_smooth = np.insert(new_infected_smooth, 0, 1)\n",
        "new_infected = np.diff(infected)\n",
        "new_infected = np.insert(new_infected, 0, 1)\n",
        "print(\"New Infected:\", new_infected)\n",
        "\n",
        "plt.plot(infected, label = \"Original data\")\n",
        "plt.plot(infected_smooth, label = \"Smooth data\")\n",
        "plt.legend(loc = 'best')\n",
        "plt.xlabel(f\"days after {date[0]}\")\n",
        "plt.ylabel(\"Number of infected\")\n",
        "plt.title(\"Number of infected in LA County\")\n",
        "plt.show()\n",
        "\n",
        "plt.plot(new_infected, label = \"Original data\")\n",
        "plt.plot(new_infected_smooth, label = \"Smooth data\")\n",
        "plt.legend(loc = 'best')\n",
        "plt.xlabel(f\"days after {date[0]}\")\n",
        "plt.ylabel(\"Number of new infected\")\n",
        "plt.title(\"Number of new infected in LA County\")\n",
        "plt.show()\n",
        "\n",
        "# Dump the last three days\n",
        "infected = infected_smooth[:-3]\n",
        "new_infected = new_infected_smooth[:-3]"
      ],
      "execution_count": 0,
      "outputs": [
        {
          "output_type": "stream",
          "text": [
            "[    1     7    11    13    14    14    20    20    29    29    40    53\n",
            "    69    94   144   190   231   292   351   409   536   662   799  1216\n",
            "  1465  1804  2136  2474  3011  3518  4045  4566  5277  5940  6360  6910\n",
            "  7530  7955  8430  8873  9192  9420 10047 10496 10854 11391 12021 12341\n",
            " 13816 15140 16435 17508 18517 19107 19528 20417 20976 22485 23182 24215\n",
            " 24894 25662 26217 27815 28644 29427 30296 31197 31677 32258 33180 34428\n",
            " 35329 36259 37303 37974 38451 39573 40857 42037 43052 44055 44988 46018\n",
            " 47822 48700 49774 51562 53651 54996 55968 57118 58234 59650 61045]\n",
            "first day: 3/3/20\n",
            "last day: 6/2/20\n",
            "Infected: [    1     7    11    13    14    14    20    20    29    29    40    53\n",
            "    69    94   144   190   231   292   351   409   536   662   799  1216\n",
            "  1465  1804  2136  2474  3011  3518  4045  4566  5277  5940  6360  6910\n",
            "  7530  7955  8430  8873  9192  9420 10047 10496 10854 11391 12021 12341\n",
            " 13816 15140 16435 17508 18517 19107 19528 20417 20976 22485 23182 24215\n",
            " 24894 25662 26217 27815 28644 29427 30296 31197 31677 32258 33180 34428\n",
            " 35329 36259 37303 37974 38451 39573 40857 42037 43052 44055 44988 46018\n",
            " 47822 48700 49774 51562 53651 54996 55968 57118 58234 59650 61045]\n",
            "New Infected: [   1    6    4    2    1    0    6    0    9    0   11   13   16   25\n",
            "   50   46   41   61   59   58  127  126  137  417  249  339  332  338\n",
            "  537  507  527  521  711  663  420  550  620  425  475  443  319  228\n",
            "  627  449  358  537  630  320 1475 1324 1295 1073 1009  590  421  889\n",
            "  559 1509  697 1033  679  768  555 1598  829  783  869  901  480  581\n",
            "  922 1248  901  930 1044  671  477 1122 1284 1180 1015 1003  933 1030\n",
            " 1804  878 1074 1788 2089 1345  972 1150 1116 1416 1395]\n"
          ],
          "name": "stdout"
        },
        {
          "output_type": "display_data",
          "data": {
            "image/png": "[encoded data removed]",
            "text/plain": [
              "<Figure size 432x288 with 1 Axes>"
            ]
          },
          "metadata": {
            "tags": [],
            "needs_background": "light"
          }
        },
        {
          "output_type": "display_data",
          "data": {
            "image/png": "[encoded data removed]",
            "text/plain": [
              "<Figure size 432x288 with 1 Axes>"
            ]
          },
          "metadata": {
            "tags": [],
            "needs_background": "light"
          }
        }
      ]
    },
    {
      "cell_type": "markdown",
      "metadata": {
        "id": "BMGCL5njGRiF",
        "colab_type": "text"
      },
      "source": [
        "# HawkesN **Formulas**:\n",
        "\n",
        "- Kernel: $\\phi(t;k,\\theta) = k\\theta e^{-\\theta t}$  \n",
        "- Intensity: $\\lambda = (1-Nt/N)(\\mu+\\sum_{t_j<t} \\phi(t-t_j))$   \n",
        "Here we assume events recorded at t happened right before t, therefore included in sum , $\\mu = 0$\n",
        "- Log-Likelihood: $L(k,\\theta,N; data) = \\sum_{j=1}^n log(\\lambda(t_j)) - \\int_0^{T} \\lambda(s)ds$  \n",
        "$\\int_0^{T} \\lambda(s)ds = \\sum_{t=0}^{T-1} (1-N_t/N)\\sum_{s=0}^{t-1}N(s)\\int_{t}^{t+1}\\phi(t-s)ds$  \n",
        "Where $N(s)$ is the number of events happened at time s"
      ]
    },
    {
      "cell_type": "code",
      "metadata": {
        "id": "MMNRDzNqZ7Vy",
        "colab_type": "code",
        "colab": {}
      },
      "source": [
        "#from math import exp, log\n",
        "from tqdm import tqdm\n",
        "# Build Hawkes model\n",
        "\n",
        "def kernel(t, k, theta):\n",
        "  return k * theta * np.exp(-theta * t)\n",
        "\n",
        "# kernel_vectorized = np.vectorize(kernel, excluded=[\"k\", \"theta\"])\n",
        "def kernel_integral(t, k, theta):\n",
        "  #return k * np.exp(-theta * t)\n",
        "  return k * np.exp(-theta * t) - k * np.exp(-theta * (t+1))#ugly hack\n",
        "\n",
        "def intensity(t, N, k, theta, new_infected, infected, mu=0):\n",
        "  \"\"\"lambda = (1-Nt/N)(mu+sum_tj<t kernel(t-tj)), where tj are individual events\"\"\"\n",
        "  #assert(type(t) == int)\n",
        "  #total = 0\n",
        "  date_vector = np.arange(t, -1, -1) #[t,..., 0]\n",
        "  #kernel_vector = kernel_vectorized(date_vector)\n",
        "  kernel_vector = kernel(date_vector, k, theta)\n",
        "  return (1-infected[t]/N) * np.inner(kernel_vector, new_infected[:t+1]) \n",
        "\n",
        "def intensity_vec (t, N, k, theta, new_infected, infected, mu=0):\n",
        "  \"\"\"lambda = (1-Nt/N)(mu+sum_tj<t kernel(t-tj)), where tj are individual events\"\"\"\n",
        "  T = np.max(t)\n",
        "  date_vector = np.arange(T+1) #[t+1,..., 0+1]\n",
        "  #kernel_vector = kernel_vectorized(date_vector)\n",
        "  kernel_vector = kernel(date_vector, k, theta)\n",
        "  #kernel_vector[0]=1E-2\n",
        "  cvec = np.convolve(kernel_vector, new_infected)\n",
        "  return (1-infected[t]/N) * cvec[t]\n",
        "\n",
        "#log_int_vec = np.vectorize(intensity, excluded = [\"t\",\"k\",\"theta\",\"new_infected\",\"infected\",\"mu\"])\n",
        "def log_likelihood(N, k, theta, infected, new_infected, mu=0):\n",
        "  \"\"\"Returns likelihood of data:[t1,t2,...,tn] occuring given parameters (k, theta, N)\"\"\"\n",
        "  t_end = len(infected)\n",
        "  likelihood = 0\n",
        "  time_vec = np.arange(t_end)\n",
        "  #kernel_vec = np.vectorize(lambda t: kernel(t,k,theta),otypes=[float])\n",
        "  #log_int_vec = lambda t: np.log(intensity(t,N,k,theta,new_infected,infected,mu))\n",
        "  #log_int_vec = np.vectorize(log_int_vec)\n",
        "  likelihood += np.inner(new_infected, np.log(intensity_vec (time_vec, N, k, theta, new_infected, infected)))#log_int_vec(time_vec))\n",
        "  for i in range(t_end-1):\n",
        "    #likelihood += new_infected[i]*np.log(intensity(i, N, k, theta,new_infected, infected, mu))\n",
        "    # Have not added mu here\n",
        "    #time period (i,i+1)\n",
        "    likelihood -= (1-infected[i]/N) * np.inner(new_infected[:i+1],kernel_integral(np.arange(i,-1,-1), k, theta))\n",
        "    #for j in range(i+1):\n",
        "      #likelihood -= (1-infected[i]/N)*new_infected[j]*(kernel_integral(i+1-j,k,theta) - kernel_integral(i-j,k,theta))\n",
        "  likelihood *= (N>0)\n",
        "  return likelihood\n",
        "\n",
        "# Aliasing L -> loglikelihood\n",
        "L = log_likelihood\n",
        "\n",
        "\n",
        "def fitted_parameters(num_N, num_k, num_theta, bounds, test_inf, test_inf_new):\n",
        "  # Sampling k,theta,N\n",
        "  N_lb, N_ub, k_lb, k_ub, theta_lb, theta_ub = bounds\n",
        "  N_list = np.linspace(N_lb, N_ub, num_N)\n",
        "  #print(N_list)\n",
        "  k_list = np.linspace(k_lb, k_ub, num_k)\n",
        "  #print(k_list)\n",
        "  theta_list = np.linspace(theta_lb, theta_ub, num_theta)\n",
        "\n",
        "  mesh = np.array(np.meshgrid(N_list, k_list, theta_list)).T.reshape(-1,3)\n",
        "  L_vec = lambda x: L(x[0], x[1], x[2], test_inf,test_inf_new)\n",
        "  sim_lkhd = np.apply_along_axis(L_vec, 1,mesh)\n",
        "  \n",
        "  # sim_lkhd = np.zeros((num_N, num_k, num_theta))\n",
        "  # for i in tqdm(range(num_N)):\n",
        "  #   for j in range(num_k):\n",
        "  #     for p in range(num_theta): \n",
        "  #       N,k,theta = N_list[i], k_list[j], theta_list[p]\n",
        "  #       sim_lkhd[i,j,p] = L(N,k,theta, infected, new_infected)\n",
        "  \n",
        "  i = sim_lkhd.argmax()\n",
        "  return mesh[i][0], mesh[i][1], mesh[i][2]"
      ],
      "execution_count": 0,
      "outputs": []
    },
    {
      "cell_type": "code",
      "metadata": {
        "id": "N1RsPGo_Caut",
        "colab_type": "code",
        "colab": {}
      },
      "source": [
        "# Create test data\n",
        "validation_time = 15\n",
        "test_inf, test_new_inf = infected[:-validation_time], new_infected[:-validation_time]"
      ],
      "execution_count": 0,
      "outputs": []
    },
    {
      "cell_type": "code",
      "metadata": {
        "id": "5EfK2T5Fcset",
        "colab_type": "code",
        "outputId": "a8bee9d2-9384-426e-9ebb-dfb1413f6659",
        "colab": {
          "base_uri": "https://localhost:8080/",
          "height": 68
        }
      },
      "source": [
        "# Fit parameters\n",
        "import time\n",
        "tic = time.time()\n",
        "N,k,theta = fitted_parameters(10,200,5,(max(infected)+10000, 10000000, 0.5,2,0.01,5),test_inf,test_new_inf)\n",
        "print(f\"\\nN = {N}, k = {k}, theta = {theta}\")\n",
        "print(f\"Elapsed time = {round(time.time()-tic, 2)}s\")\n",
        "#14.6s"
      ],
      "execution_count": 0,
      "outputs": [
        {
          "output_type": "stream",
          "text": [
            "\n",
            "N = 10000000.0, k = 1.0276381909547738, theta = 5.0\n",
            "Elapsed time = 14.41s\n"
          ],
          "name": "stdout"
        }
      ]
    },
    {
      "cell_type": "code",
      "metadata": {
        "id": "i51LWMvjWuuZ",
        "colab_type": "code",
        "outputId": "669385b3-429a-4441-a61a-9e67a7a954f9",
        "colab": {
          "base_uri": "https://localhost:8080/",
          "height": 68
        }
      },
      "source": [
        "\n",
        "# for n in np.linspace(100000,10000000,40):\n",
        "#   print(n,L(n, 1.0305128205128204, 10.0, test_inf, test_new_inf))\n",
        "# for k in np.linspace(0.1,5,100):\n",
        "#    print(k,L(n, k, theta, test_inf, test_new_inf))\n",
        "# for theta in np.linspace(0.1,5,100):\n",
        "#   print(theta,L(100000, 1.03, theta, test_inf, test_new_inf))\n",
        "#print(L(10000000.0, 1.0305128205128204, 10.0, test_inf, test_new_inf))\n",
        "\n",
        "print(f\"\\nN = {N}, k = {k}, theta = {theta}\")\n",
        "n = test_inf[-1]\n",
        "T = len(test_inf)\n",
        "\n",
        "result = n*(n-1)/2\n",
        "for t in range(T-1):\n",
        "  a = 0\n",
        "  for r in range(t,T-1):\n",
        "    a += test_inf[r]*kernel_integral(r-t,k,theta)\n",
        "  result -= a*test_new_inf[t]\n",
        "print(\"dL/dN >= 1/N^2*\", round(result))\n",
        "\n",
        "# for k in np.linspace(1,1.5,20):\n",
        "#   for theta in np.linspace(0.1,10,10):\n",
        "#     result = n*(n-1)/2\n",
        "#     for t in range(T-1):\n",
        "#       a = 0\n",
        "#       for r in range(t,T-1):\n",
        "#         a += test_inf[r]*kernel_integral(r-t,k,theta)\n",
        "#       result -= a*test_new_inf[t]\n",
        "#     if result < 0:\n",
        "#         print(k,theta,result)"
      ],
      "execution_count": 0,
      "outputs": [
        {
          "output_type": "stream",
          "text": [
            "\n",
            "N = 10000000.0, k = 1.0276381909547738, theta = 5.0\n",
            "dL/dN >= 1/N^2* 1500941.0\n"
          ],
          "name": "stdout"
        }
      ]
    },
    {
      "cell_type": "code",
      "metadata": {
        "id": "Ygr4AbYf62lP",
        "colab_type": "code",
        "outputId": "88a47018-0ffa-40e5-8ea1-577399e7035d",
        "colab": {
          "base_uri": "https://localhost:8080/",
          "height": 1000
        }
      },
      "source": [
        "# Validation\n",
        "def simulation(N, k, theta, test_inf, test_new_inf, validation_time):\n",
        "  \"\"\"Given infected & new infected up to now, predict for days(# = validation_time)\"\"\"\n",
        "  time = len(test_inf)-1  # The endpoint time\n",
        "  for t in range(time, time+validation_time):\n",
        "    new_case = 0\n",
        "    #lambda_t = (1-Nt/N)(mu+\\sum tj<t kernel(t-tj))\n",
        "    for i in range(t+1):\n",
        "      # contribution from infection = \\int_{t}^{t+1} lambda(t)\n",
        "      new_case += test_new_inf[i]*kernel_integral(t-i,k,theta)\n",
        "    new_case *= 1-test_inf[t]/N\n",
        "    test_inf = np.append(test_inf, new_case + test_inf[-1])\n",
        "    test_new_inf = np.append(test_new_inf, new_case)\n",
        "  return test_inf, test_new_inf\n",
        "\n",
        "predicted_inf, predicted_new_inf = simulation(N,k,theta, test_inf,test_new_inf,validation_time)\n",
        "test_n = len(test_inf)\n",
        "fitted_inf, fitted_new_inf = simulation(N,k,theta,test_inf[0:test_n-validation_time], test_new_inf[0:test_n-validation_time], validation_time*2)\n",
        "\n",
        "print(\"Predicted  Ground Truth\")\n",
        "for i in range(len(predicted_new_inf)-validation_time, len(predicted_new_inf)):\n",
        "  print(int(predicted_new_inf[i]), \"\\t\\t\", new_infected[i])\n",
        "#plt.plot(fitted_new_inf, label = \"Fitted\")\n",
        "plt.plot(new_infected[-validation_time:], label = \"Ground Truth\")\n",
        "plt.plot(predicted_new_inf[-validation_time:], label = \"Prediction\")\n",
        "plt.legend(loc = \"best\")\n",
        "plt.xlabel(f\"Num days after {date[len(infected)-validation_time]}\")\n",
        "plt.ylabel(\"Num new infected\")\n",
        "plt.title(\"New infected\")\n",
        "plt.show()\n",
        "\n",
        "plt.plot(infected, label = \"Ground Truth\")\n",
        "plt.plot(predicted_inf, label = \"Prediction\")\n",
        "#plt.plot(fitted_inf, label = \"Fitted\")\n",
        "plt.xlabel(f\"Num days after {date[0]}\")\n",
        "plt.ylabel(\"Num infected\")\n",
        "plt.legend(loc = \"best\")\n",
        "plt.title(\"Total infected\")\n",
        "plt.show()\n",
        "\n",
        "plt.plot(infected[-validation_time:], label = \"Ground Truth\")\n",
        "plt.plot(predicted_inf[-validation_time:], label = \"Prediction\")\n",
        "#plt.plot(fitted_inf, label = \"Fitted\")\n",
        "plt.xlabel(f\"Num days after {date[len(infected)-validation_time]}\")\n",
        "plt.ylabel(\"Num infected\")\n",
        "plt.legend(loc = \"best\")\n",
        "plt.title(\"Total infected\")\n",
        "plt.show()\n"
      ],
      "execution_count": 0,
      "outputs": [
        {
          "output_type": "stream",
          "text": [
            "Predicted  Ground Truth\n",
            "892 \t\t 900\n",
            "914 \t\t 885\n",
            "935 \t\t 913\n",
            "958 \t\t 918\n",
            "980 \t\t 959\n",
            "1003 \t\t 970\n",
            "1027 \t\t 965\n",
            "1050 \t\t 1002\n",
            "1075 \t\t 1081\n",
            "1100 \t\t 1178\n",
            "1125 \t\t 1120\n",
            "1151 \t\t 1106\n",
            "1177 \t\t 1215\n",
            "1203 \t\t 1371\n",
            "1230 \t\t 1430\n"
          ],
          "name": "stdout"
        },
        {
          "output_type": "display_data",
          "data": {
            "image/png": "[encoded data removed]",
            "text/plain": [
              "<Figure size 432x288 with 1 Axes>"
            ]
          },
          "metadata": {
            "tags": [],
            "needs_background": "light"
          }
        },
        {
          "output_type": "display_data",
          "data": {
            "image/png": "[encoded data removed]",
            "text/plain": [
              "<Figure size 432x288 with 1 Axes>"
            ]
          },
          "metadata": {
            "tags": [],
            "needs_background": "light"
          }
        },
        {
          "output_type": "display_data",
          "data": {
            "image/png": "[encoded data removed]",
            "text/plain": [
              "<Figure size 432x288 with 1 Axes>"
            ]
          },
          "metadata": {
            "tags": [],
            "needs_background": "light"
          }
        }
      ]
    },
    {
      "cell_type": "markdown",
      "metadata": {
        "id": "oRuMqADiAEzC",
        "colab_type": "text"
      },
      "source": [
        "# Second Approach, Distributed data"
      ]
    },
    {
      "cell_type": "code",
      "metadata": {
        "id": "ZcOmTTOFLzub",
        "colab_type": "code",
        "outputId": "044c8455-6334-46a9-9f36-58deb8c5920b",
        "colab": {
          "base_uri": "https://localhost:8080/",
          "height": 85
        }
      },
      "source": [
        "end_time = 15\n",
        "infected2 = infected[:end_time]\n",
        "new_infected2 = new_infected[:end_time]\n",
        "\n",
        "timepoints = np.zeros(int(infected2[-1]),dtype=np.float64)\n",
        "for i in range(1,end_time):\n",
        "  for j in range(new_infected2[i]):\n",
        "    timepoints[infected2[i-1]+j] = i-1+(j+1)/new_infected2[i]\n",
        "#print(timepoints)\n",
        "timediff = np.diff(timepoints)\n",
        "#print(timediff)\n",
        "\n",
        "print(infected2)\n",
        "print(new_infected2)\n",
        "print(new_infected[:30])"
      ],
      "execution_count": 0,
      "outputs": [
        {
          "output_type": "stream",
          "text": [
            "[  1   6   9  11  14  17  19  23  29  37  47  65  88 117 153]\n",
            "[ 1  5  3  2  3  3  2  4  6  8 10 18 23 29 36]\n",
            "[  1   5   3   2   3   3   2   4   6   8  10  18  23  29  36  42  49  63\n",
            "  74  87 141 167 208 247 277 335 389 404 443 496]\n"
          ],
          "name": "stdout"
        }
      ]
    },
    {
      "cell_type": "code",
      "metadata": {
        "id": "m2JNaQWKADDq",
        "colab_type": "code",
        "colab": {}
      },
      "source": [
        "# Second approach, distinct data points\n",
        "\n",
        "def kernel_integral(t, k, theta):\n",
        "  #return k * np.exp(-theta * t)\n",
        "  return k * np.exp(-theta * t) - k * np.exp(-theta * (t+1))#ugly hack\n",
        "#log_int_vec = np.vectorize(intensity, excluded = [\"t\",\"k\",\"theta\",\"new_infected\",\"infected\",\"mu\"])\n",
        "def log_likelihood_2(k, theta, timepoints,timediff):\n",
        "  t_end = int(timepoints[-1])\n",
        "  num_points = len(timepoints)\n",
        "  # Compute \\sum log(\\lambda(t_j))\n",
        "  lambda_old = k*theta\n",
        "  likelihood = np.log(lambda_old)\n",
        "  likelihood -= k*(1-np.exp(-timediff[0]))\n",
        "  for i in range(1,num_points-1):\n",
        "    lambda_old = (lambda_old+k*theta)*(np.exp(-theta*timediff[i-1]))\n",
        "    likelihood += np.log(lambda_old)\n",
        "    likelihood -= (1-np.exp(-theta*timediff[i]))*(lambda_old/theta+k)\n",
        "  lambda_old = (lambda_old+k*theta)*(np.exp(-theta*timediff[num_points-2]))\n",
        "  likelihood += np.log(lambda_old)\n",
        "  return likelihood\n",
        "\n",
        "# Aliasing L -> loglikelihood\n",
        "L2 = log_likelihood_2\n",
        "\n",
        "\n",
        "def fitted_parameters2(num_k, num_theta, bounds, timepoints, timediff):\n",
        "  # Sampling k,theta,N\n",
        "  k_lb, k_ub, theta_lb, theta_ub = bounds\n",
        "  k_list = np.linspace(k_lb, k_ub, num_k)\n",
        "  #print(k_list)\n",
        "  theta_list = np.linspace(theta_lb, theta_ub, num_theta)\n",
        "\n",
        "  mesh = np.array(np.meshgrid(k_list, theta_list)).T.reshape(-1,2)\n",
        "  L_vec = lambda x: L2(x[0], x[1], timepoints, timediff)\n",
        "  sim_lkhd = np.apply_along_axis(L_vec, 1,mesh)\n",
        "  \n",
        "  # sim_lkhd = np.zeros((num_N, num_k, num_theta))\n",
        "  # for i in tqdm(range(num_N)):\n",
        "  #   for j in range(num_k):\n",
        "  #     for p in range(num_theta): \n",
        "  #       N,k,theta = N_list[i], k_list[j], theta_list[p]\n",
        "  #       sim_lkhd[i,j,p] = L(N,k,theta, infected, new_infected)\n",
        "  \n",
        "  i = sim_lkhd.argmax()\n",
        "  return mesh[i][0], mesh[i][1]"
      ],
      "execution_count": 0,
      "outputs": []
    },
    {
      "cell_type": "code",
      "metadata": {
        "id": "DZjtF2aFo65m",
        "colab_type": "code",
        "outputId": "1337dbe6-5468-4413-a931-9e99710adba2",
        "colab": {
          "base_uri": "https://localhost:8080/",
          "height": 34
        }
      },
      "source": [
        "k,theta = fitted_parameters2(200,30,(0.5,2,0.01,1), timepoints,timediff)\n",
        "print(f\"k = {k}, theta = {theta}\")\n",
        "\n"
      ],
      "execution_count": 0,
      "outputs": [
        {
          "output_type": "stream",
          "text": [
            "k = 1.6457286432160803, theta = 0.41965517241379313\n"
          ],
          "name": "stdout"
        }
      ]
    },
    {
      "cell_type": "code",
      "metadata": {
        "id": "p_qFMTiI_bD5",
        "colab_type": "code",
        "outputId": "21c44a5b-7b40-413e-e42f-36403b221101",
        "colab": {
          "base_uri": "https://localhost:8080/",
          "height": 51
        }
      },
      "source": [
        "print(L2(k,theta, timepoints, timediff))\n",
        "print(L2(1.3,theta, timepoints, timediff))"
      ],
      "execution_count": 0,
      "outputs": [
        {
          "output_type": "stream",
          "text": [
            "268.0800121863149\n",
            "264.2092610507829\n"
          ],
          "name": "stdout"
        }
      ]
    },
    {
      "cell_type": "code",
      "metadata": {
        "id": "Gwky4nKQg_QO",
        "colab_type": "code",
        "outputId": "ee5c2ee8-d7b1-4d95-83db-c2f4c464476b",
        "colab": {
          "base_uri": "https://localhost:8080/",
          "height": 794
        }
      },
      "source": [
        "# Fit parameters and predict\n",
        "\n",
        "validation_time = 5\n",
        "def simulation(N, k, theta, test_inf, test_new_inf, validation_time):\n",
        "  \"\"\"Given infected & new infected up to now, predict for days(# = validation_time)\"\"\"\n",
        "  time = len(test_inf)-1  # The endpoint time\n",
        "  print(test_inf)\n",
        "  print(test_new_inf)\n",
        "  for t in range(time, time+validation_time):\n",
        "    new_case = 0\n",
        "    #lambda_t = (1-Nt/N)(mu+\\sum tj<t kernel(t-tj))\n",
        "    for i in range(t+1):\n",
        "      # contribution from infection = \\int_{t}^{t+1} lambda(t)\n",
        "      new_case += test_new_inf[i]*kernel_integral(t-i,k,theta)\n",
        "    new_case *= 1-test_inf[t]/N\n",
        "    print(new_case)\n",
        "    test_inf = np.append(test_inf, new_case + test_inf[-1])\n",
        "    test_new_inf = np.append(test_new_inf, new_case)\n",
        "  return test_inf, test_new_inf\n",
        "\n",
        "predicted_inf, predicted_new_inf = simulation(10**7,k,theta, infected2,new_infected2,validation_time)\n",
        "n = len(infected2)\n",
        "\n",
        "\n",
        "\n",
        "print(\"Predicted  Ground Truth\")\n",
        "for i in range(n, len(predicted_new_inf)):\n",
        "  print(int(predicted_new_inf[i-2]), \"\\t\\t\", new_infected[i-2])\n",
        "plt.plot(new_infected[n:n+validation_time], label = \"Ground Truth\")\n",
        "plt.plot(predicted_new_inf[n:], label = \"Prediction\")\n",
        "#plt.plot(fitted_new_inf, label = \"Fitted\")\n",
        "\n",
        "plt.legend(loc = \"best\")\n",
        "plt.xlabel(f\"Num days after {date[n]}\")\n",
        "plt.ylabel(\"Num new infected\")\n",
        "plt.title(\"New infected\")\n",
        "plt.show()\n",
        "\n",
        "plt.plot(infected[n:n+validation_time], label = \"Ground Truth\")\n",
        "plt.plot(predicted_inf[n:], label = \"Prediction\")\n",
        "#plt.plot(fitted_inf, label = \"Fitted\")\n",
        "plt.xlabel(f\"Num days after {date[n]}\")\n",
        "plt.ylabel(\"Num infected\")\n",
        "plt.legend(loc = \"best\")\n",
        "plt.title(\"Total infected\")\n",
        "plt.show()"
      ],
      "execution_count": 0,
      "outputs": [
        {
          "output_type": "stream",
          "text": [
            "[  1   6   9  11  14  17  19  23  29  37  47  65  88 117 153]\n",
            "[ 1  5  3  2  3  3  2  4  6  8 10 18 23 29 36]\n",
            "41.6807001827277\n",
            "50.90441592727875\n",
            "62.16911355373803\n",
            "75.92632523684011\n",
            "92.72743411299406\n",
            "Predicted  Ground Truth\n",
            "29 \t\t 29\n",
            "36 \t\t 36\n",
            "41 \t\t 42\n",
            "50 \t\t 49\n",
            "62 \t\t 63\n"
          ],
          "name": "stdout"
        },
        {
          "output_type": "display_data",
          "data": {
            "image/png": "[encoded data removed]",
            "text/plain": [
              "<Figure size 432x288 with 1 Axes>"
            ]
          },
          "metadata": {
            "tags": [],
            "needs_background": "light"
          }
        },
        {
          "output_type": "display_data",
          "data": {
            "image/png": "[encoded data removed]",
            "text/plain": [
              "<Figure size 432x288 with 1 Axes>"
            ]
          },
          "metadata": {
            "tags": [],
            "needs_background": "light"
          }
        }
      ]
    },
    {
      "cell_type": "markdown",
      "metadata": {
        "id": "uSpZzyHUQpqP",
        "colab_type": "text"
      },
      "source": [
        "# Gibbs with Metropolis Hastings sampling"
      ]
    },
    {
      "cell_type": "code",
      "metadata": {
        "id": "ONCI3RsdQk_j",
        "colab_type": "code",
        "colab": {}
      },
      "source": [
        "import numpy as np\n",
        "import matplotlib.pyplot as plt\n",
        "import tqdm.notebook as tq\n",
        "\n",
        "from numpy.random import rand, randn\n",
        "\n",
        "class Gibbs_with_Metropolis_Hastings:\n",
        "    def __init__ (self, initial_value, distribution, total_num_sample, is_log=False):\n",
        "        self.distribution = distribution\n",
        "        self.current = np.asarray(initial_value)\n",
        "        self.variable_count, self.sample_count = self.current.shape\n",
        "        self.end = total_num_sample\n",
        "        self.is_log = is_log\n",
        "\n",
        "    def variables_iter (self):\n",
        "        for i in range(self.variable_count):\n",
        "            yield self.current[i, :]\n",
        "\n",
        "    def random_perturb (self):\n",
        "        return randn(self.sample_count)\n",
        "\n",
        "    def random_uniform (self):\n",
        "        return rand(self.sample_count)\n",
        "\n",
        "    def __next__ (self):\n",
        "        for variable in self.variables_iter():\n",
        "            current_distribution = self.distribution(self.current)  #current pdf\n",
        "            perturbation = self.random_perturb()\n",
        "            variable += perturbation\n",
        "            proposed_distribution = self.distribution(self.current) #new pdf\n",
        "            if self.is_log:\n",
        "                criterion = proposed_distribution - current_distribution\n",
        "                acceptance = (np.log(self.random_uniform()) < criterion)\n",
        "            else:\n",
        "                criterion = proposed_distribution / current_distribution\n",
        "                acceptance = (self.random_uniform() < criterion)\n",
        "            variable -= perturbation\n",
        "            variable += perturbation * acceptance\n",
        "\n",
        "    def __iter__ (self):\n",
        "        for i in range(self.end):\n",
        "            self.__next__()\n",
        "            yield self.current\n",
        "\n",
        "    def gen (self, gap=1, start=1, use_tqdm=False):\n",
        "        irange = range(self.end * gap + start)\n",
        "        if use_tqdm:\n",
        "            irange = tq.tqdm(irange)\n",
        "        for i in irange:\n",
        "            self.__next__()\n",
        "            if (i - start) % gap != 0:\n",
        "                continue\n",
        "            if i < start:\n",
        "                continue\n",
        "            yield self.current \n",
        "\n"
      ],
      "execution_count": 0,
      "outputs": []
    },
    {
      "cell_type": "markdown",
      "metadata": {
        "id": "d_70NtGyQuyQ",
        "colab_type": "text"
      },
      "source": [
        "## Testing code for Gibbs_with_Metropolis_Hastings"
      ]
    },
    {
      "cell_type": "code",
      "metadata": {
        "id": "41hvW-WyQnPr",
        "colab_type": "code",
        "outputId": "7563ab0c-2254-422a-c253-05163d3e165c",
        "colab": {
          "base_uri": "https://localhost:8080/",
          "height": 545
        }
      },
      "source": [
        "np.random.seed(0)\n",
        "total_num_sample = 1000\n",
        "def f(x):\n",
        "  return ((x[0]<1) * (x[0]>-1)).reshape(-1)\n",
        "gmh = Gibbs_with_Metropolis_Hastings(np.zeros((2,3)), f, total_num_sample)\n",
        "sample = np.zeros((total_num_sample, 2, 3))\n",
        "cnt = 0\n",
        "for i in gmh:\n",
        "    sample[cnt] = i\n",
        "    cnt += 1\n",
        "\n",
        "plt.plot(sample[:,0,0])\n",
        "plt.plot(sample[:,0,1])\n",
        "plt.plot(sample[:,0,2])\n",
        "\n",
        "plt.title(\"[0,1] Uniform Sample Position Plot\")\n",
        "plt.show()\n",
        "plt.hist(sample[:,0,:].reshape(-1), density=True)\n",
        "\n",
        "plt.title(\"[0,1] Uniform Sample Histogram\")\n",
        "plt.show()"
      ],
      "execution_count": 0,
      "outputs": [
        {
          "output_type": "display_data",
          "data": {
            "image/png": "[encoded data removed]",
            "text/plain": [
              "<Figure size 432x288 with 1 Axes>"
            ]
          },
          "metadata": {
            "tags": [],
            "needs_background": "light"
          }
        },
        {
          "output_type": "display_data",
          "data": {
            "image/png": "[encoded data removed]",
            "text/plain": [
              "<Figure size 432x288 with 1 Axes>"
            ]
          },
          "metadata": {
            "tags": [],
            "needs_background": "light"
          }
        }
      ]
    },
    {
      "cell_type": "markdown",
      "metadata": {
        "id": "HhiZm1COBVaD",
        "colab_type": "text"
      },
      "source": [
        "# Second Approach, Gibbs"
      ]
    },
    {
      "cell_type": "code",
      "metadata": {
        "id": "TX23O1FWWj2d",
        "colab_type": "code",
        "outputId": "dd86dc6d-475b-4ea4-ef8e-d36a27756af7",
        "colab": {
          "base_uri": "https://localhost:8080/",
          "height": 492,
          "referenced_widgets": [
            "67a6cbb15e0f4d7aad9a0d48c6833558",
            "da5c37c660b147b9b5cefbb80b4064cd",
            "575f946676c44d2ab282d3de9c57b9d8",
            "7f5cb9fdc75e49af9a6a8a8bf64e7fc2",
            "12097e92602344dfa3af4f2dd9cb0f29",
            "f17f58dfa80149a7a3183d37376cd965",
            "0b647d8f789143ff901c7d8f71fdfb9e",
            "06c279eab2a74cc0b38918c71c6b01de"
          ]
        }
      },
      "source": [
        "# Testing distributed data\n",
        "np.random.seed(0)\n",
        "k_scale, theta_scale = 0.2, 0.2\n",
        "k_init,theta_init = 1/k_scale,1/theta_scale\n",
        "prior = lambda x: int((0.001 <= x[0]*k_scale <= 10)*(0.001 <= x[1]*theta_scale <= 20))\n",
        "L_vec = lambda x: L2(x[0]*k_scale, x[1]*theta_scale, timepoints, timediff)*prior(x)\n",
        "total_num_sample = 20000\n",
        "start_param = np.asarray([k_init,theta_init], dtype=np.float64).repeat(1).reshape(2, -1)\n",
        "gmh = Gibbs_with_Metropolis_Hastings(start_param, L_vec, total_num_sample, is_log=True)\n",
        "sample = np.zeros((total_num_sample, 2, 1))\n",
        "count = 0\n",
        "for i in gmh.gen(1, 100, True):\n",
        "  sample[count] = i\n",
        "  count += 1\n",
        "k_dist = sample[:,0,:].reshape(-1)*k_scale\n",
        "theta_dist = sample[:,1,:].reshape(-1)*theta_scale\n",
        "plt.hist(k_dist, bins = 100, density=True)\n",
        "plt.title(\"k distribution\")\n",
        "plt.show()\n",
        "plt.hist(theta_dist, bins = 100, density=True)\n",
        "plt.title(\"Theta distribution\")\n",
        "plt.show()"
      ],
      "execution_count": 0,
      "outputs": [
        {
          "output_type": "display_data",
          "data": {
            "application/vnd.jupyter.widget-view+json": {
              "model_id": "67a6cbb15e0f4d7aad9a0d48c6833558",
              "version_minor": 0,
              "version_major": 2
            },
            "text/plain": [
              "HBox(children=(FloatProgress(value=0.0, max=20100.0), HTML(value='')))"
            ]
          },
          "metadata": {
            "tags": []
          }
        },
        {
          "output_type": "stream",
          "text": [
            "/usr/local/lib/python3.6/dist-packages/ipykernel_launcher.py:12: RuntimeWarning: invalid value encountered in log\n",
            "  if sys.path[0] == '':\n",
            "/usr/local/lib/python3.6/dist-packages/ipykernel_launcher.py:16: RuntimeWarning: invalid value encountered in log\n",
            "  app.launch_new_instance()\n",
            "/usr/local/lib/python3.6/dist-packages/ipykernel_launcher.py:19: RuntimeWarning: invalid value encountered in log\n"
          ],
          "name": "stderr"
        },
        {
          "output_type": "error",
          "ename": "KeyboardInterrupt",
          "evalue": "ignored",
          "traceback": [
            "\u001b[0;31m---------------------------------------------------------------------------\u001b[0m",
            "\u001b[0;31mKeyboardInterrupt\u001b[0m                         Traceback (most recent call last)",
            "\u001b[0;32m<ipython-input-46-c5117f3196e9>\u001b[0m in \u001b[0;36m<module>\u001b[0;34m()\u001b[0m\n\u001b[1;32m     10\u001b[0m \u001b[0msample\u001b[0m \u001b[0;34m=\u001b[0m \u001b[0mnp\u001b[0m\u001b[0;34m.\u001b[0m\u001b[0mzeros\u001b[0m\u001b[0;34m(\u001b[0m\u001b[0;34m(\u001b[0m\u001b[0mtotal_num_sample\u001b[0m\u001b[0;34m,\u001b[0m \u001b[0;36m2\u001b[0m\u001b[0;34m,\u001b[0m \u001b[0;36m1\u001b[0m\u001b[0;34m)\u001b[0m\u001b[0;34m)\u001b[0m\u001b[0;34m\u001b[0m\u001b[0;34m\u001b[0m\u001b[0m\n\u001b[1;32m     11\u001b[0m \u001b[0mcount\u001b[0m \u001b[0;34m=\u001b[0m \u001b[0;36m0\u001b[0m\u001b[0;34m\u001b[0m\u001b[0;34m\u001b[0m\u001b[0m\n\u001b[0;32m---> 12\u001b[0;31m \u001b[0;32mfor\u001b[0m \u001b[0mi\u001b[0m \u001b[0;32min\u001b[0m \u001b[0mgmh\u001b[0m\u001b[0;34m.\u001b[0m\u001b[0mgen\u001b[0m\u001b[0;34m(\u001b[0m\u001b[0;36m1\u001b[0m\u001b[0;34m,\u001b[0m \u001b[0;36m100\u001b[0m\u001b[0;34m,\u001b[0m \u001b[0;32mTrue\u001b[0m\u001b[0;34m)\u001b[0m\u001b[0;34m:\u001b[0m\u001b[0;34m\u001b[0m\u001b[0;34m\u001b[0m\u001b[0m\n\u001b[0m\u001b[1;32m     13\u001b[0m   \u001b[0msample\u001b[0m\u001b[0;34m[\u001b[0m\u001b[0mcount\u001b[0m\u001b[0;34m]\u001b[0m \u001b[0;34m=\u001b[0m \u001b[0mi\u001b[0m\u001b[0;34m\u001b[0m\u001b[0;34m\u001b[0m\u001b[0m\n\u001b[1;32m     14\u001b[0m   \u001b[0mcount\u001b[0m \u001b[0;34m+=\u001b[0m \u001b[0;36m1\u001b[0m\u001b[0;34m\u001b[0m\u001b[0;34m\u001b[0m\u001b[0m\n",
            "\u001b[0;32m<ipython-input-44-5aa537fc57d3>\u001b[0m in \u001b[0;36mgen\u001b[0;34m(self, gap, start, use_tqdm)\u001b[0m\n\u001b[1;32m     48\u001b[0m             \u001b[0mirange\u001b[0m \u001b[0;34m=\u001b[0m \u001b[0mtq\u001b[0m\u001b[0;34m.\u001b[0m\u001b[0mtqdm\u001b[0m\u001b[0;34m(\u001b[0m\u001b[0mirange\u001b[0m\u001b[0;34m)\u001b[0m\u001b[0;34m\u001b[0m\u001b[0;34m\u001b[0m\u001b[0m\n\u001b[1;32m     49\u001b[0m         \u001b[0;32mfor\u001b[0m \u001b[0mi\u001b[0m \u001b[0;32min\u001b[0m \u001b[0mirange\u001b[0m\u001b[0;34m:\u001b[0m\u001b[0;34m\u001b[0m\u001b[0;34m\u001b[0m\u001b[0m\n\u001b[0;32m---> 50\u001b[0;31m             \u001b[0mself\u001b[0m\u001b[0;34m.\u001b[0m\u001b[0m__next__\u001b[0m\u001b[0;34m(\u001b[0m\u001b[0;34m)\u001b[0m\u001b[0;34m\u001b[0m\u001b[0;34m\u001b[0m\u001b[0m\n\u001b[0m\u001b[1;32m     51\u001b[0m             \u001b[0;32mif\u001b[0m \u001b[0;34m(\u001b[0m\u001b[0mi\u001b[0m \u001b[0;34m-\u001b[0m \u001b[0mstart\u001b[0m\u001b[0;34m)\u001b[0m \u001b[0;34m%\u001b[0m \u001b[0mgap\u001b[0m \u001b[0;34m!=\u001b[0m \u001b[0;36m0\u001b[0m\u001b[0;34m:\u001b[0m\u001b[0;34m\u001b[0m\u001b[0;34m\u001b[0m\u001b[0m\n\u001b[1;32m     52\u001b[0m                 \u001b[0;32mcontinue\u001b[0m\u001b[0;34m\u001b[0m\u001b[0;34m\u001b[0m\u001b[0m\n",
            "\u001b[0;32m<ipython-input-44-5aa537fc57d3>\u001b[0m in \u001b[0;36m__next__\u001b[0;34m(self)\u001b[0m\n\u001b[1;32m     28\u001b[0m             \u001b[0mperturbation\u001b[0m \u001b[0;34m=\u001b[0m \u001b[0mself\u001b[0m\u001b[0;34m.\u001b[0m\u001b[0mrandom_perturb\u001b[0m\u001b[0;34m(\u001b[0m\u001b[0;34m)\u001b[0m\u001b[0;34m\u001b[0m\u001b[0;34m\u001b[0m\u001b[0m\n\u001b[1;32m     29\u001b[0m             \u001b[0mvariable\u001b[0m \u001b[0;34m+=\u001b[0m \u001b[0mperturbation\u001b[0m\u001b[0;34m\u001b[0m\u001b[0;34m\u001b[0m\u001b[0m\n\u001b[0;32m---> 30\u001b[0;31m             \u001b[0mproposed_distribution\u001b[0m \u001b[0;34m=\u001b[0m \u001b[0mself\u001b[0m\u001b[0;34m.\u001b[0m\u001b[0mdistribution\u001b[0m\u001b[0;34m(\u001b[0m\u001b[0mself\u001b[0m\u001b[0;34m.\u001b[0m\u001b[0mcurrent\u001b[0m\u001b[0;34m)\u001b[0m \u001b[0;31m#new pdf\u001b[0m\u001b[0;34m\u001b[0m\u001b[0;34m\u001b[0m\u001b[0m\n\u001b[0m\u001b[1;32m     31\u001b[0m             \u001b[0;32mif\u001b[0m \u001b[0mself\u001b[0m\u001b[0;34m.\u001b[0m\u001b[0mis_log\u001b[0m\u001b[0;34m:\u001b[0m\u001b[0;34m\u001b[0m\u001b[0;34m\u001b[0m\u001b[0m\n\u001b[1;32m     32\u001b[0m                 \u001b[0mcriterion\u001b[0m \u001b[0;34m=\u001b[0m \u001b[0mproposed_distribution\u001b[0m \u001b[0;34m-\u001b[0m \u001b[0mcurrent_distribution\u001b[0m\u001b[0;34m\u001b[0m\u001b[0;34m\u001b[0m\u001b[0m\n",
            "\u001b[0;32m<ipython-input-46-c5117f3196e9>\u001b[0m in \u001b[0;36m<lambda>\u001b[0;34m(x)\u001b[0m\n\u001b[1;32m      4\u001b[0m \u001b[0mk_init\u001b[0m\u001b[0;34m,\u001b[0m\u001b[0mtheta_init\u001b[0m \u001b[0;34m=\u001b[0m \u001b[0;36m1\u001b[0m\u001b[0;34m/\u001b[0m\u001b[0mk_scale\u001b[0m\u001b[0;34m,\u001b[0m\u001b[0;36m1\u001b[0m\u001b[0;34m/\u001b[0m\u001b[0mtheta_scale\u001b[0m\u001b[0;34m\u001b[0m\u001b[0;34m\u001b[0m\u001b[0m\n\u001b[1;32m      5\u001b[0m \u001b[0mprior\u001b[0m \u001b[0;34m=\u001b[0m \u001b[0;32mlambda\u001b[0m \u001b[0mx\u001b[0m\u001b[0;34m:\u001b[0m \u001b[0mint\u001b[0m\u001b[0;34m(\u001b[0m\u001b[0;34m(\u001b[0m\u001b[0;36m0.001\u001b[0m \u001b[0;34m<=\u001b[0m \u001b[0mx\u001b[0m\u001b[0;34m[\u001b[0m\u001b[0;36m0\u001b[0m\u001b[0;34m]\u001b[0m\u001b[0;34m*\u001b[0m\u001b[0mk_scale\u001b[0m \u001b[0;34m<=\u001b[0m \u001b[0;36m10\u001b[0m\u001b[0;34m)\u001b[0m\u001b[0;34m*\u001b[0m\u001b[0;34m(\u001b[0m\u001b[0;36m0.001\u001b[0m \u001b[0;34m<=\u001b[0m \u001b[0mx\u001b[0m\u001b[0;34m[\u001b[0m\u001b[0;36m1\u001b[0m\u001b[0;34m]\u001b[0m\u001b[0;34m*\u001b[0m\u001b[0mtheta_scale\u001b[0m \u001b[0;34m<=\u001b[0m \u001b[0;36m20\u001b[0m\u001b[0;34m)\u001b[0m\u001b[0;34m)\u001b[0m\u001b[0;34m\u001b[0m\u001b[0;34m\u001b[0m\u001b[0m\n\u001b[0;32m----> 6\u001b[0;31m \u001b[0mL_vec\u001b[0m \u001b[0;34m=\u001b[0m \u001b[0;32mlambda\u001b[0m \u001b[0mx\u001b[0m\u001b[0;34m:\u001b[0m \u001b[0mL2\u001b[0m\u001b[0;34m(\u001b[0m\u001b[0mx\u001b[0m\u001b[0;34m[\u001b[0m\u001b[0;36m0\u001b[0m\u001b[0;34m]\u001b[0m\u001b[0;34m*\u001b[0m\u001b[0mk_scale\u001b[0m\u001b[0;34m,\u001b[0m \u001b[0mx\u001b[0m\u001b[0;34m[\u001b[0m\u001b[0;36m1\u001b[0m\u001b[0;34m]\u001b[0m\u001b[0;34m*\u001b[0m\u001b[0mtheta_scale\u001b[0m\u001b[0;34m,\u001b[0m \u001b[0mtimepoints\u001b[0m\u001b[0;34m,\u001b[0m \u001b[0mtimediff\u001b[0m\u001b[0;34m)\u001b[0m\u001b[0;34m*\u001b[0m\u001b[0mprior\u001b[0m\u001b[0;34m(\u001b[0m\u001b[0mx\u001b[0m\u001b[0;34m)\u001b[0m\u001b[0;34m\u001b[0m\u001b[0;34m\u001b[0m\u001b[0m\n\u001b[0m\u001b[1;32m      7\u001b[0m \u001b[0mtotal_num_sample\u001b[0m \u001b[0;34m=\u001b[0m \u001b[0;36m20000\u001b[0m\u001b[0;34m\u001b[0m\u001b[0;34m\u001b[0m\u001b[0m\n\u001b[1;32m      8\u001b[0m \u001b[0mstart_param\u001b[0m \u001b[0;34m=\u001b[0m \u001b[0mnp\u001b[0m\u001b[0;34m.\u001b[0m\u001b[0masarray\u001b[0m\u001b[0;34m(\u001b[0m\u001b[0;34m[\u001b[0m\u001b[0mk_init\u001b[0m\u001b[0;34m,\u001b[0m\u001b[0mtheta_init\u001b[0m\u001b[0;34m]\u001b[0m\u001b[0;34m,\u001b[0m \u001b[0mdtype\u001b[0m\u001b[0;34m=\u001b[0m\u001b[0mnp\u001b[0m\u001b[0;34m.\u001b[0m\u001b[0mfloat64\u001b[0m\u001b[0;34m)\u001b[0m\u001b[0;34m.\u001b[0m\u001b[0mrepeat\u001b[0m\u001b[0;34m(\u001b[0m\u001b[0;36m1\u001b[0m\u001b[0;34m)\u001b[0m\u001b[0;34m.\u001b[0m\u001b[0mreshape\u001b[0m\u001b[0;34m(\u001b[0m\u001b[0;36m2\u001b[0m\u001b[0;34m,\u001b[0m \u001b[0;34m-\u001b[0m\u001b[0;36m1\u001b[0m\u001b[0;34m)\u001b[0m\u001b[0;34m\u001b[0m\u001b[0;34m\u001b[0m\u001b[0m\n",
            "\u001b[0;32m<ipython-input-40-c543d63f686f>\u001b[0m in \u001b[0;36mlog_likelihood_2\u001b[0;34m(k, theta, timepoints, timediff)\u001b[0m\n\u001b[1;32m     13\u001b[0m   \u001b[0mlikelihood\u001b[0m \u001b[0;34m-=\u001b[0m \u001b[0mk\u001b[0m\u001b[0;34m*\u001b[0m\u001b[0;34m(\u001b[0m\u001b[0;36m1\u001b[0m\u001b[0;34m-\u001b[0m\u001b[0mnp\u001b[0m\u001b[0;34m.\u001b[0m\u001b[0mexp\u001b[0m\u001b[0;34m(\u001b[0m\u001b[0;34m-\u001b[0m\u001b[0mtimediff\u001b[0m\u001b[0;34m[\u001b[0m\u001b[0;36m0\u001b[0m\u001b[0;34m]\u001b[0m\u001b[0;34m)\u001b[0m\u001b[0;34m)\u001b[0m\u001b[0;34m\u001b[0m\u001b[0;34m\u001b[0m\u001b[0m\n\u001b[1;32m     14\u001b[0m   \u001b[0;32mfor\u001b[0m \u001b[0mi\u001b[0m \u001b[0;32min\u001b[0m \u001b[0mrange\u001b[0m\u001b[0;34m(\u001b[0m\u001b[0;36m1\u001b[0m\u001b[0;34m,\u001b[0m\u001b[0mnum_points\u001b[0m\u001b[0;34m-\u001b[0m\u001b[0;36m1\u001b[0m\u001b[0;34m)\u001b[0m\u001b[0;34m:\u001b[0m\u001b[0;34m\u001b[0m\u001b[0;34m\u001b[0m\u001b[0m\n\u001b[0;32m---> 15\u001b[0;31m     \u001b[0mlambda_old\u001b[0m \u001b[0;34m=\u001b[0m \u001b[0;34m(\u001b[0m\u001b[0mlambda_old\u001b[0m\u001b[0;34m+\u001b[0m\u001b[0mk\u001b[0m\u001b[0;34m*\u001b[0m\u001b[0mtheta\u001b[0m\u001b[0;34m)\u001b[0m\u001b[0;34m*\u001b[0m\u001b[0;34m(\u001b[0m\u001b[0mnp\u001b[0m\u001b[0;34m.\u001b[0m\u001b[0mexp\u001b[0m\u001b[0;34m(\u001b[0m\u001b[0;34m-\u001b[0m\u001b[0mtheta\u001b[0m\u001b[0;34m*\u001b[0m\u001b[0mtimediff\u001b[0m\u001b[0;34m[\u001b[0m\u001b[0mi\u001b[0m\u001b[0;34m-\u001b[0m\u001b[0;36m1\u001b[0m\u001b[0;34m]\u001b[0m\u001b[0;34m)\u001b[0m\u001b[0;34m)\u001b[0m\u001b[0;34m\u001b[0m\u001b[0;34m\u001b[0m\u001b[0m\n\u001b[0m\u001b[1;32m     16\u001b[0m     \u001b[0mlikelihood\u001b[0m \u001b[0;34m+=\u001b[0m \u001b[0mnp\u001b[0m\u001b[0;34m.\u001b[0m\u001b[0mlog\u001b[0m\u001b[0;34m(\u001b[0m\u001b[0mlambda_old\u001b[0m\u001b[0;34m)\u001b[0m\u001b[0;34m\u001b[0m\u001b[0;34m\u001b[0m\u001b[0m\n\u001b[1;32m     17\u001b[0m     \u001b[0mlikelihood\u001b[0m \u001b[0;34m-=\u001b[0m \u001b[0;34m(\u001b[0m\u001b[0;36m1\u001b[0m\u001b[0;34m-\u001b[0m\u001b[0mnp\u001b[0m\u001b[0;34m.\u001b[0m\u001b[0mexp\u001b[0m\u001b[0;34m(\u001b[0m\u001b[0;34m-\u001b[0m\u001b[0mtheta\u001b[0m\u001b[0;34m*\u001b[0m\u001b[0mtimediff\u001b[0m\u001b[0;34m[\u001b[0m\u001b[0mi\u001b[0m\u001b[0;34m]\u001b[0m\u001b[0;34m)\u001b[0m\u001b[0;34m)\u001b[0m\u001b[0;34m*\u001b[0m\u001b[0;34m(\u001b[0m\u001b[0mlambda_old\u001b[0m\u001b[0;34m/\u001b[0m\u001b[0mtheta\u001b[0m\u001b[0;34m+\u001b[0m\u001b[0mk\u001b[0m\u001b[0;34m)\u001b[0m\u001b[0;34m\u001b[0m\u001b[0;34m\u001b[0m\u001b[0m\n",
            "\u001b[0;31mKeyboardInterrupt\u001b[0m: "
          ]
        }
      ]
    },
    {
      "cell_type": "code",
      "metadata": {
        "id": "M_jwi6Nx7Bls",
        "colab_type": "code",
        "colab": {}
      },
      "source": [
        "fig, ax = plt.subplots(2, 2)\n",
        "ax[0,0].hist(k_dist, density=True, bins=30)\n",
        "ax[0,0].set_title(\"k distribution\")\n",
        "ax[0,1].hist(theta_dist, density=True, bins=30)\n",
        "ax[0,1].set_title(\"Theta distribution\")\n",
        "ax[1,0].plot(k_dist)\n",
        "ax[1,0].set_title(\"k distribution\")\n",
        "ax[1,1].plot(theta_dist)\n",
        "ax[1,1].set_title(\"Theta distribution\")\n",
        "fig.tight_layout() \n",
        "plt.show()"
      ],
      "execution_count": 0,
      "outputs": []
    },
    {
      "cell_type": "markdown",
      "metadata": {
        "id": "_2UqYGkhhAAd",
        "colab_type": "text"
      },
      "source": [
        "\n",
        "# Parameter search with Gibbs Sampling"
      ]
    },
    {
      "cell_type": "code",
      "metadata": {
        "id": "GSxqN6fCs6du",
        "colab_type": "code",
        "outputId": "3fbaf935-eb25-4d4e-9761-b7fc2dedd414",
        "colab": {
          "base_uri": "https://localhost:8080/",
          "height": 871,
          "referenced_widgets": [
            "d6ebf5c02d964e309011d140ef3c805c",
            "28e49a7bc3dc4b0b94dfa12278053e89",
            "4ebdc2f2d3b744b8a69ee3e00d54bdeb",
            "af8b2e873a13448f8cb39dd26d8d908c",
            "11745eb2445a4d46b0dcc6afd7928bf2",
            "dfad2999995040e0af291463e9603811",
            "621149ece91e4073b85347da0118ba66",
            "2a26c04bbffb42b3930b65d4758d9870"
          ]
        }
      },
      "source": [
        "np.random.seed(0)\n",
        "n_scale, k_scale, theta_scale = 500000, 0.2, 0.5\n",
        "n_init,k_init,theta_init = 2000000/n_scale, 1.1/k_scale,3/theta_scale\n",
        "prior = lambda x: int((max(infected) <= x[0]*n_scale <= 10000000)*(0.01 <= x[1]*k_scale <= 10)*(0.01 <= x[2]*theta_scale <= 20))\n",
        "L_vec = lambda x: L(x[0]*n_scale, x[1]*k_scale, x[2]*theta_scale, test_inf, test_new_inf)*prior(x)\n",
        "total_num_sample = 5000\n",
        "start_param = np.asarray([n_init,k_init,theta_init], dtype=np.float64).repeat(1).reshape(3, -1)\n",
        "gmh = Gibbs_with_Metropolis_Hastings(start_param, L_vec, total_num_sample, is_log=True)\n",
        "sample = np.zeros((total_num_sample, 3, 1))\n",
        "count = 0\n",
        "for i in gmh.gen(1, 100, True):\n",
        "  sample[count] = i\n",
        "  count += 1\n",
        "N_dist = sample[:,0,:].reshape(-1)*n_scale\n",
        "k_dist = sample[:,1,:].reshape(-1)*k_scale\n",
        "theta_dist = sample[:,2,:].reshape(-1)*theta_scale\n",
        "plt.hist(N_dist, bins = 100, density=True)\n",
        "plt.title(\"N distribution\")\n",
        "plt.show()\n",
        "plt.hist(k_dist, bins = 100, density=True)\n",
        "plt.title(\"k distribution\")\n",
        "plt.show()\n",
        "plt.hist(theta_dist, bins = 100, density=True)\n",
        "plt.title(\"Theta distribution\")\n",
        "plt.show()"
      ],
      "execution_count": 0,
      "outputs": [
        {
          "output_type": "display_data",
          "data": {
            "application/vnd.jupyter.widget-view+json": {
              "model_id": "d6ebf5c02d964e309011d140ef3c805c",
              "version_minor": 0,
              "version_major": 2
            },
            "text/plain": [
              "HBox(children=(FloatProgress(value=0.0, max=5100.0), HTML(value='')))"
            ]
          },
          "metadata": {
            "tags": []
          }
        },
        {
          "output_type": "stream",
          "text": [
            "\n"
          ],
          "name": "stdout"
        },
        {
          "output_type": "display_data",
          "data": {
            "image/png": "[encoded data removed]",
            "text/plain": [
              "<Figure size 432x288 with 1 Axes>"
            ]
          },
          "metadata": {
            "tags": [],
            "needs_background": "light"
          }
        },
        {
          "output_type": "display_data",
          "data": {
            "image/png": "[encoded data removed]",
            "text/plain": [
              "<Figure size 432x288 with 1 Axes>"
            ]
          },
          "metadata": {
            "tags": [],
            "needs_background": "light"
          }
        },
        {
          "output_type": "display_data",
          "data": {
            "image/png": "[encoded data removed]",
            "text/plain": [
              "<Figure size 432x288 with 1 Axes>"
            ]
          },
          "metadata": {
            "tags": [],
            "needs_background": "light"
          }
        }
      ]
    },
    {
      "cell_type": "code",
      "metadata": {
        "id": "_xOrrDnNdLub",
        "colab_type": "code",
        "colab": {}
      },
      "source": [
        "# np.random.seed(0)\n",
        "# n_scale, k_scale, theta_scale = 500000, 0.1, 0.1\n",
        "# n_init,k_init,theta_init = 2000000/n_scale, 1.1/k_scale,3/theta_scale\n",
        "# prior = lambda x: (0.01 <= x[0]*k_scale <= 10)*(0.01 <= x[1]*theta_scale <= 20)\n",
        "# L_vec = lambda x: L(10000000, x[0]*k_scale, x[1]*theta_scale, test_inf, test_new_inf)*prior(x)\n",
        "# total_num_sample = 50000\n",
        "# start_param = np.asarray([k_init,theta_init], dtype=np.float64).repeat(1).reshape(2, -1)\n",
        "# gmh = Gibbs_with_Metropolis_Hastings(start_param, L_vec, total_num_sample, is_log=False)\n",
        "# sample = np.zeros((total_num_sample, 2, 1))\n",
        "# count = 0\n",
        "# for i in gmh.gen(1, 100, True):\n",
        "#   sample[count] = i\n",
        "#   count += 1\n",
        "# #N_dist = sample[:,0,:].reshape(-1)*n_scale\n",
        "# k_dist = sample[:,0,:].reshape(-1)*k_scale\n",
        "# theta_dist = sample[:,1,:].reshape(-1)*theta_scale\n",
        "# #plt.hist(N_dist, bins = 100, density=True)\n",
        "# #plt.title(\"N distribution\")\n",
        "# #plt.show()\n",
        "# plt.hist(k_dist, bins = 100, density=True)\n",
        "# plt.title(\"k distribution\")\n",
        "# plt.show()\n",
        "# plt.hist(theta_dist, bins = 100, density=True)\n",
        "# plt.title(\"Theta distribution\")\n",
        "# plt.show()\n"
      ],
      "execution_count": 0,
      "outputs": []
    },
    {
      "cell_type": "code",
      "metadata": {
        "id": "A4gdI5FWVIn6",
        "colab_type": "code",
        "colab": {}
      },
      "source": [
        "fig, ax = plt.subplots(2, 3)\n",
        "ax[0,0].hist(N_dist, density=True, bins=30)\n",
        "ax[0,0].set_title(\"N distribution\")\n",
        "ax[0,1].hist(k_dist, density=True, bins=30)\n",
        "ax[0,1].set_title(\"k distribution\")\n",
        "ax[0,2].hist(theta_dist, density=True, bins=30)\n",
        "ax[0,2].set_title(\"Theta distribution\")\n",
        "ax[1,0].plot(N_dist)\n",
        "ax[1,0].set_title(\"N distribution\")\n",
        "ax[1,1].plot(k_dist)\n",
        "ax[1,1].set_title(\"k distribution\")\n",
        "ax[1,2].plot(theta_dist)\n",
        "ax[1,2].set_title(\"Theta distribution\")\n",
        "fig.tight_layout() \n",
        "plt.show()"
      ],
      "execution_count": 0,
      "outputs": []
    },
    {
      "cell_type": "code",
      "metadata": {
        "id": "W2ptl3qHcAl5",
        "colab_type": "code",
        "colab": {}
      },
      "source": [
        "print(theta_dist)"
      ],
      "execution_count": 0,
      "outputs": []
    },
    {
      "cell_type": "code",
      "metadata": {
        "id": "eXkyJiXRxW4x",
        "colab_type": "code",
        "colab": {}
      },
      "source": [
        "print(sample.shape)\n",
        "print(np.var(sample, axis=0))"
      ],
      "execution_count": 0,
      "outputs": []
    },
    {
      "cell_type": "code",
      "metadata": {
        "id": "P8fcrELUTknd",
        "colab_type": "code",
        "colab": {}
      },
      "source": [
        "\n",
        "print(np.var(sample))"
      ],
      "execution_count": 0,
      "outputs": []
    }
  ]
}