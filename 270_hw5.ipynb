{
  "nbformat": 4,
  "nbformat_minor": 0,
  "metadata": {
    "colab": {
      "name": "270_hw5.ipynb",
      "provenance": [],
      "collapsed_sections": [],
      "authorship_tag": "ABX9TyM8rfO6phD0jDOIVgazVFO5"
    },
    "kernelspec": {
      "name": "python3",
      "display_name": "Python 3"
    }
  },
  "cells": [
    {
      "cell_type": "code",
      "metadata": {
        "id": "qZ4BJ-ngrFFc",
        "colab_type": "code",
        "colab": {}
      },
      "source": [
        "import tensorflow as tf\n",
        "tf.__version__\n",
        "mnist = tf.keras.datasets.mnist\n",
        "(x_train, y_train),(x_test,y_test) = mnist.load_data()"
      ],
      "execution_count": 0,
      "outputs": []
    },
    {
      "cell_type": "code",
      "metadata": {
        "id": "ZYZHKLH6_3QV",
        "colab_type": "code",
        "outputId": "7d052a9d-5b50-4c25-e5b4-b3b94af66cd1",
        "colab": {
          "base_uri": "https://localhost:8080/",
          "height": 34
        }
      },
      "source": [
        "print(len(x_train), len(y_train), len(x_test), len(y_test))\n",
        "x_train = tf.keras.utils.normalize(x_train, axis=1)\n",
        "x_test = tf.keras.utils.normalize(x_test, axis=1)"
      ],
      "execution_count": 0,
      "outputs": [
        {
          "output_type": "stream",
          "text": [
            "60000 60000 10000 10000\n"
          ],
          "name": "stdout"
        }
      ]
    },
    {
      "cell_type": "code",
      "metadata": {
        "id": "4D9_-X4DDKSR",
        "colab_type": "code",
        "outputId": "658c8be7-c67f-4683-d6e7-c1f05f6c6be7",
        "colab": {
          "base_uri": "https://localhost:8080/",
          "height": 34
        }
      },
      "source": [
        "import numpy as np\n",
        "print(len(x_train),len(y_train))"
      ],
      "execution_count": 0,
      "outputs": [
        {
          "output_type": "stream",
          "text": [
            "60000 60000\n"
          ],
          "name": "stdout"
        }
      ]
    },
    {
      "cell_type": "code",
      "metadata": {
        "id": "RIBrHdnRAeSq",
        "colab_type": "code",
        "outputId": "90bbe891-d5d6-4300-f9b5-bc03604a8d0e",
        "colab": {
          "base_uri": "https://localhost:8080/",
          "height": 282
        }
      },
      "source": [
        "import matplotlib.pyplot as plt\n",
        "plt.imshow(x_train[0], cmap = plt.cm.binary)"
      ],
      "execution_count": 0,
      "outputs": [
        {
          "output_type": "execute_result",
          "data": {
            "text/plain": [
              "<matplotlib.image.AxesImage at 0x7f3aff805cf8>"
            ]
          },
          "metadata": {
            "tags": []
          },
          "execution_count": 53
        },
        {
          "output_type": "display_data",
          "data": {
            "image/png": "[encoded data removed]",
            "text/plain": [
              "<Figure size 432x288 with 1 Axes>"
            ]
          },
          "metadata": {
            "tags": []
          }
        }
      ]
    },
    {
      "cell_type": "code",
      "metadata": {
        "id": "OCkMFaxeH3hO",
        "colab_type": "code",
        "outputId": "6f55c92d-d07f-4f8a-a535-c883249c63fa",
        "colab": {
          "base_uri": "https://localhost:8080/",
          "height": 714
        }
      },
      "source": [
        "# Epoch vs Accuracy\n",
        "num_train = 1000\n",
        "num_val = 5000\n",
        "acc_list = []\n",
        "ep = 20\n",
        "num_layers = 3\n",
        "model = tf.keras.Sequential()\n",
        "model.add(tf.keras.layers.Flatten())\n",
        "for i in range(num_layers-1):\n",
        "  model.add(tf.keras.layers.Dense(128, activation = tf.nn.relu))\n",
        "model.add(tf.keras.layers.Dense(10, activation = tf.nn.softmax))\n",
        "model.compile(optimizer = \"adam\", loss = \"sparse_categorical_crossentropy\", metrics = [\"accuracy\"])\n",
        "\n",
        "history = model.fit(x_train[0:num_train], y_train[0:num_train], validation_data = (x_test[:num_val], y_test[:num_val]), epochs = ep)\n",
        "acc = history.history[\"val_acc\"]\n"
      ],
      "execution_count": 0,
      "outputs": [
        {
          "output_type": "stream",
          "text": [
            "Train on 1000 samples, validate on 5000 samples\n",
            "Epoch 1/20\n",
            "1000/1000 [==============================] - 4s 4ms/sample - loss: 1.8745 - acc: 0.5220 - val_loss: 1.3896 - val_acc: 0.6742\n",
            "Epoch 2/20\n",
            "1000/1000 [==============================] - 1s 1ms/sample - loss: 0.7911 - acc: 0.8240 - val_loss: 0.8043 - val_acc: 0.7538\n",
            "Epoch 3/20\n",
            "1000/1000 [==============================] - 1s 1ms/sample - loss: 0.4466 - acc: 0.8780 - val_loss: 0.6494 - val_acc: 0.7988\n",
            "Epoch 4/20\n",
            "1000/1000 [==============================] - 1s 1ms/sample - loss: 0.3016 - acc: 0.9260 - val_loss: 0.5800 - val_acc: 0.8238\n",
            "Epoch 5/20\n",
            "1000/1000 [==============================] - 1s 1ms/sample - loss: 0.2331 - acc: 0.9440 - val_loss: 0.5650 - val_acc: 0.8246\n",
            "Epoch 6/20\n",
            "1000/1000 [==============================] - 1s 1ms/sample - loss: 0.1809 - acc: 0.9620 - val_loss: 0.5696 - val_acc: 0.8216\n",
            "Epoch 7/20\n",
            "1000/1000 [==============================] - 1s 1ms/sample - loss: 0.1402 - acc: 0.9660 - val_loss: 0.5065 - val_acc: 0.8460\n",
            "Epoch 8/20\n",
            "1000/1000 [==============================] - 1s 1ms/sample - loss: 0.1003 - acc: 0.9790 - val_loss: 0.4909 - val_acc: 0.8512\n",
            "Epoch 9/20\n",
            "1000/1000 [==============================] - 1s 1ms/sample - loss: 0.0706 - acc: 0.9920 - val_loss: 0.5134 - val_acc: 0.8466\n",
            "Epoch 10/20\n",
            "1000/1000 [==============================] - 1s 1ms/sample - loss: 0.0543 - acc: 0.9960 - val_loss: 0.5185 - val_acc: 0.8432\n",
            "Epoch 11/20\n",
            "1000/1000 [==============================] - 1s 1ms/sample - loss: 0.0472 - acc: 0.9940 - val_loss: 0.5426 - val_acc: 0.8396\n",
            "Epoch 12/20\n",
            "1000/1000 [==============================] - 1s 1ms/sample - loss: 0.0316 - acc: 0.9990 - val_loss: 0.5259 - val_acc: 0.8474\n",
            "Epoch 13/20\n",
            "1000/1000 [==============================] - 1s 1ms/sample - loss: 0.0225 - acc: 1.0000 - val_loss: 0.5269 - val_acc: 0.8494\n",
            "Epoch 14/20\n",
            "1000/1000 [==============================] - 1s 1ms/sample - loss: 0.0186 - acc: 1.0000 - val_loss: 0.5469 - val_acc: 0.8436\n",
            "Epoch 15/20\n",
            "1000/1000 [==============================] - 1s 1ms/sample - loss: 0.0150 - acc: 1.0000 - val_loss: 0.5433 - val_acc: 0.8488\n",
            "Epoch 16/20\n",
            "1000/1000 [==============================] - 1s 1ms/sample - loss: 0.0117 - acc: 1.0000 - val_loss: 0.5427 - val_acc: 0.8512\n",
            "Epoch 17/20\n",
            "1000/1000 [==============================] - 1s 1ms/sample - loss: 0.0104 - acc: 1.0000 - val_loss: 0.5543 - val_acc: 0.8492\n",
            "Epoch 18/20\n",
            "1000/1000 [==============================] - 1s 1ms/sample - loss: 0.0086 - acc: 1.0000 - val_loss: 0.5545 - val_acc: 0.8522\n",
            "Epoch 19/20\n",
            "1000/1000 [==============================] - 1s 1ms/sample - loss: 0.0075 - acc: 1.0000 - val_loss: 0.5675 - val_acc: 0.8502\n",
            "Epoch 20/20\n",
            "1000/1000 [==============================] - 1s 1ms/sample - loss: 0.0066 - acc: 1.0000 - val_loss: 0.5681 - val_acc: 0.8506\n"
          ],
          "name": "stdout"
        }
      ]
    },
    {
      "cell_type": "code",
      "metadata": {
        "id": "aEl0DIAfMyHc",
        "colab_type": "code",
        "outputId": "43879bab-44a2-4315-a81d-7abd621c97a4",
        "colab": {
          "base_uri": "https://localhost:8080/",
          "height": 366
        }
      },
      "source": [
        "print(acc)\n",
        "print(list(range(1,ep+1)))\n",
        "plt.plot(list(range(1,ep+1)), acc)\n",
        "plt.xlabel(\"num of iterations\")\n",
        "plt.ylabel(\"validation accuracy\")\n",
        "plt.title(\"Num iterations vs Accuracy\")"
      ],
      "execution_count": 0,
      "outputs": [
        {
          "output_type": "stream",
          "text": [
            "[0.6742, 0.7538, 0.7988, 0.8238, 0.8246, 0.8216, 0.846, 0.8512, 0.8466, 0.8432, 0.8396, 0.8474, 0.8494, 0.8436, 0.8488, 0.8512, 0.8492, 0.8522, 0.8502, 0.8506]\n",
            "[1, 2, 3, 4, 5, 6, 7, 8, 9, 10, 11, 12, 13, 14, 15, 16, 17, 18, 19, 20]\n"
          ],
          "name": "stdout"
        },
        {
          "output_type": "execute_result",
          "data": {
            "text/plain": [
              "Text(0.5, 1.0, 'Num iterations vs Accuracy')"
            ]
          },
          "metadata": {
            "tags": []
          },
          "execution_count": 93
        },
        {
          "output_type": "display_data",
          "data": {
            "image/png": "[encoded data removed]",
            "text/plain": [
              "<Figure size 432x288 with 1 Axes>"
            ]
          },
          "metadata": {
            "tags": []
          }
        }
      ]
    },
    {
      "cell_type": "code",
      "metadata": {
        "id": "ZcUV0oj4Aea9",
        "colab_type": "code",
        "outputId": "36dfb4d4-59cf-4456-8109-dfc40816a6ed",
        "colab": {
          "base_uri": "https://localhost:8080/",
          "height": 782
        }
      },
      "source": [
        "# Num Training data vs Accuracy\n",
        "l = len(x_train)\n",
        "num_val = 5000\n",
        "start = 10\n",
        "num_train = []\n",
        "while start < l:\n",
        "  num_train.append(start)\n",
        "  start *= 1.5\n",
        "  start = int(start)\n",
        "print(num_train)\n",
        "acc_list = []\n",
        "for n in num_train:\n",
        "  num_layers = 3\n",
        "  model = tf.keras.Sequential()\n",
        "  model.add(tf.keras.layers.Flatten())\n",
        "  for i in range(num_layers-1):\n",
        "    model.add(tf.keras.layers.Dense(128, activation = tf.nn.relu))\n",
        "  model.add(tf.keras.layers.Dense(10, activation = tf.nn.softmax))\n",
        "  model.compile(optimizer = \"adam\", loss = \"sparse_categorical_crossentropy\", metrics = [\"accuracy\"])\n",
        "\n",
        "  history = model.fit(x_train[0:n], y_train[0:n], validation_data = (x_test[:num_val], y_test[:num_val]), epochs = 1)\n",
        "  acc_list.append(history.history[\"val_acc\"][-1])"
      ],
      "execution_count": 0,
      "outputs": [
        {
          "output_type": "stream",
          "text": [
            "[10, 15, 22, 33, 49, 73, 109, 163, 244, 366, 549, 823, 1234, 1851, 2776, 4164, 6246, 9369, 14053, 21079, 31618, 47427]\n",
            "Train on 10 samples, validate on 5000 samples\n",
            "10/10 [==============================] - 3s 255ms/sample - loss: 2.3255 - acc: 0.0000e+00 - val_loss: 2.3070 - val_acc: 0.0812\n",
            "Train on 15 samples, validate on 5000 samples\n",
            "15/15 [==============================] - 3s 175ms/sample - loss: 2.3317 - acc: 0.0667 - val_loss: 2.3043 - val_acc: 0.1162\n",
            "Train on 22 samples, validate on 5000 samples\n",
            "22/22 [==============================] - 3s 122ms/sample - loss: 2.2983 - acc: 0.0909 - val_loss: 2.2858 - val_acc: 0.1836\n",
            "Train on 33 samples, validate on 5000 samples\n",
            "33/33 [==============================] - 3s 86ms/sample - loss: 2.3032 - acc: 0.1515 - val_loss: 2.2722 - val_acc: 0.1570\n",
            "Train on 49 samples, validate on 5000 samples\n",
            "49/49 [==============================] - 3s 57ms/sample - loss: 2.3088 - acc: 0.1429 - val_loss: 2.2772 - val_acc: 0.1422\n",
            "Train on 73 samples, validate on 5000 samples\n",
            "73/73 [==============================] - 3s 39ms/sample - loss: 2.2792 - acc: 0.1781 - val_loss: 2.2559 - val_acc: 0.2112\n",
            "Train on 109 samples, validate on 5000 samples\n",
            "109/109 [==============================] - 3s 26ms/sample - loss: 2.2730 - acc: 0.1651 - val_loss: 2.2499 - val_acc: 0.3152\n",
            "Train on 163 samples, validate on 5000 samples\n",
            "163/163 [==============================] - 3s 17ms/sample - loss: 2.2569 - acc: 0.2086 - val_loss: 2.2133 - val_acc: 0.3644\n",
            "Train on 244 samples, validate on 5000 samples\n",
            "244/244 [==============================] - 3s 12ms/sample - loss: 2.2195 - acc: 0.2172 - val_loss: 2.1361 - val_acc: 0.4272\n",
            "Train on 366 samples, validate on 5000 samples\n",
            "366/366 [==============================] - 3s 9ms/sample - loss: 2.1425 - acc: 0.4098 - val_loss: 2.0099 - val_acc: 0.5086\n",
            "Train on 549 samples, validate on 5000 samples\n",
            "549/549 [==============================] - 3s 6ms/sample - loss: 2.0938 - acc: 0.3716 - val_loss: 1.8688 - val_acc: 0.6006\n",
            "Train on 823 samples, validate on 5000 samples\n",
            "823/823 [==============================] - 3s 4ms/sample - loss: 1.9352 - acc: 0.5018 - val_loss: 1.5477 - val_acc: 0.6250\n",
            "Train on 1234 samples, validate on 5000 samples\n",
            "1234/1234 [==============================] - 3s 3ms/sample - loss: 1.6998 - acc: 0.5689 - val_loss: 1.1285 - val_acc: 0.7272\n",
            "Train on 1851 samples, validate on 5000 samples\n",
            "1851/1851 [==============================] - 4s 2ms/sample - loss: 1.3777 - acc: 0.6602 - val_loss: 0.8002 - val_acc: 0.7784\n",
            "Train on 2776 samples, validate on 5000 samples\n",
            "2776/2776 [==============================] - 4s 1ms/sample - loss: 1.1014 - acc: 0.7385 - val_loss: 0.6327 - val_acc: 0.8142\n",
            "Train on 4164 samples, validate on 5000 samples\n",
            "4164/4164 [==============================] - 4s 970us/sample - loss: 0.9044 - acc: 0.7529 - val_loss: 0.5122 - val_acc: 0.8378\n",
            "Train on 6246 samples, validate on 5000 samples\n",
            "6246/6246 [==============================] - 5s 728us/sample - loss: 0.7118 - acc: 0.8180 - val_loss: 0.4754 - val_acc: 0.8562\n",
            "Train on 9369 samples, validate on 5000 samples\n",
            "9369/9369 [==============================] - 5s 573us/sample - loss: 0.5913 - acc: 0.8371 - val_loss: 0.3922 - val_acc: 0.8852\n",
            "Train on 14053 samples, validate on 5000 samples\n",
            "14053/14053 [==============================] - 6s 457us/sample - loss: 0.5070 - acc: 0.8550 - val_loss: 0.3388 - val_acc: 0.8992\n",
            "Train on 21079 samples, validate on 5000 samples\n",
            "21079/21079 [==============================] - 8s 397us/sample - loss: 0.4073 - acc: 0.8847 - val_loss: 0.2793 - val_acc: 0.9134\n",
            "Train on 31618 samples, validate on 5000 samples\n",
            "31618/31618 [==============================] - 11s 339us/sample - loss: 0.3451 - acc: 0.9008 - val_loss: 0.2171 - val_acc: 0.9300\n",
            "Train on 47427 samples, validate on 5000 samples\n",
            "47427/47427 [==============================] - 15s 309us/sample - loss: 0.2951 - acc: 0.9148 - val_loss: 0.1869 - val_acc: 0.9416\n"
          ],
          "name": "stdout"
        }
      ]
    },
    {
      "cell_type": "code",
      "metadata": {
        "id": "PQwGSASoCq4X",
        "colab_type": "code",
        "outputId": "533d75a8-bf4b-4aad-8d1b-585d57473f20",
        "colab": {
          "base_uri": "https://localhost:8080/",
          "height": 349
        }
      },
      "source": [
        "print(acc_list)\n",
        "plt.plot(num_train, acc_list)\n",
        "plt.xlabel(\"number of training data\")\n",
        "plt.ylabel(\"validation accuracy\")\n",
        "plt.title(\"Num Training vs Accuracy\")"
      ],
      "execution_count": 0,
      "outputs": [
        {
          "output_type": "stream",
          "text": [
            "[0.0812, 0.1162, 0.1836, 0.157, 0.1422, 0.2112, 0.3152, 0.3644, 0.4272, 0.5086, 0.6006, 0.625, 0.7272, 0.7784, 0.8142, 0.8378, 0.8562, 0.8852, 0.8992, 0.9134, 0.93, 0.9416]\n"
          ],
          "name": "stdout"
        },
        {
          "output_type": "execute_result",
          "data": {
            "text/plain": [
              "Text(0.5, 1.0, 'Num Training vs Accuracy')"
            ]
          },
          "metadata": {
            "tags": []
          },
          "execution_count": 79
        },
        {
          "output_type": "display_data",
          "data": {
            "image/png": "[encoded data removed]",
            "text/plain": [
              "<Figure size 432x288 with 1 Axes>"
            ]
          },
          "metadata": {
            "tags": []
          }
        }
      ]
    },
    {
      "cell_type": "code",
      "metadata": {
        "id": "jVLEvxwgEOND",
        "colab_type": "code",
        "outputId": "0f53d673-1fbb-4daf-9664-b76a41caeb2f",
        "colab": {
          "base_uri": "https://localhost:8080/",
          "height": 391
        }
      },
      "source": [
        "# Num layers vs Accuracy\n",
        "num_val = 5000\n",
        "num_train = 3000\n",
        "acc_list = []\n",
        "num_layers = [i for i in range(1,11)]\n",
        "for num in num_layers:\n",
        "  model = tf.keras.Sequential()\n",
        "  model.add(tf.keras.layers.Flatten())\n",
        "  for i in range(num-1):\n",
        "    model.add(tf.keras.layers.Dense(128, activation = tf.nn.relu))\n",
        "  model.add(tf.keras.layers.Dense(10, activation = tf.nn.softmax))\n",
        "  model.compile(optimizer = \"adam\", loss = \"sparse_categorical_crossentropy\", metrics = [\"accuracy\"])\n",
        "\n",
        "  history = model.fit(x_train[0:num_train], y_train[0:num_train], validation_data = (x_test[:num_val], y_test[:num_val]), epochs = 1)\n",
        "  acc_list.append(history.history[\"val_acc\"][-1])"
      ],
      "execution_count": 0,
      "outputs": [
        {
          "output_type": "stream",
          "text": [
            "Train on 3000 samples, validate on 5000 samples\n",
            "3000/3000 [==============================] - 5s 2ms/sample - loss: 1.7588 - acc: 0.6540 - val_loss: 1.4699 - val_acc: 0.7434\n",
            "Train on 3000 samples, validate on 5000 samples\n",
            "3000/3000 [==============================] - 5s 2ms/sample - loss: 1.8099 - acc: 0.6090 - val_loss: 1.5086 - val_acc: 0.7060\n",
            "Train on 3000 samples, validate on 5000 samples\n",
            "3000/3000 [==============================] - 6s 2ms/sample - loss: 1.1090 - acc: 0.7397 - val_loss: 0.7045 - val_acc: 0.8018\n",
            "Train on 3000 samples, validate on 5000 samples\n",
            "3000/3000 [==============================] - 6s 2ms/sample - loss: 1.0602 - acc: 0.7097 - val_loss: 0.5774 - val_acc: 0.8336\n",
            "Train on 3000 samples, validate on 5000 samples\n",
            "3000/3000 [==============================] - 6s 2ms/sample - loss: 1.0249 - acc: 0.7053 - val_loss: 0.5879 - val_acc: 0.8318\n",
            "Train on 3000 samples, validate on 5000 samples\n",
            "3000/3000 [==============================] - 6s 2ms/sample - loss: 1.0613 - acc: 0.6717 - val_loss: 0.5893 - val_acc: 0.8302\n",
            "Train on 3000 samples, validate on 5000 samples\n",
            "3000/3000 [==============================] - 6s 2ms/sample - loss: 1.0364 - acc: 0.6810 - val_loss: 0.5966 - val_acc: 0.8128\n",
            "Train on 3000 samples, validate on 5000 samples\n",
            "3000/3000 [==============================] - 6s 2ms/sample - loss: 1.1008 - acc: 0.6317 - val_loss: 0.6353 - val_acc: 0.8140\n",
            "Train on 3000 samples, validate on 5000 samples\n",
            "3000/3000 [==============================] - 6s 2ms/sample - loss: 1.1107 - acc: 0.6220 - val_loss: 0.6739 - val_acc: 0.7950\n",
            "Train on 3000 samples, validate on 5000 samples\n",
            "3000/3000 [==============================] - 7s 2ms/sample - loss: 1.1686 - acc: 0.5990 - val_loss: 0.8512 - val_acc: 0.7264\n",
            "Train on 3000 samples, validate on 5000 samples\n",
            "3000/3000 [==============================] - 7s 2ms/sample - loss: 1.3393 - acc: 0.5117 - val_loss: 0.9277 - val_acc: 0.6940\n"
          ],
          "name": "stdout"
        }
      ]
    },
    {
      "cell_type": "code",
      "metadata": {
        "id": "p_1Ezp21CrW1",
        "colab_type": "code",
        "outputId": "0afe2660-3969-4323-e3ec-11571ddee802",
        "colab": {
          "base_uri": "https://localhost:8080/",
          "height": 329
        }
      },
      "source": [
        "print(acc_list)\n",
        "plt.plot(num_layers[1:], acc_list[1:])\n",
        "plt.xlabel(\"number of layers\")\n",
        "plt.ylabel(\"validation accuracy\")\n",
        "plt.title(\"Num layers vs Accuracy\")"
      ],
      "execution_count": 0,
      "outputs": [
        {
          "output_type": "stream",
          "text": [
            "[0.7434, 0.706, 0.8018, 0.8336, 0.8318, 0.8302, 0.8128, 0.814, 0.795, 0.7264, 0.694]\n"
          ],
          "name": "stdout"
        },
        {
          "output_type": "execute_result",
          "data": {
            "text/plain": [
              "Text(0.5, 1.0, 'Num layers vs Accuracy')"
            ]
          },
          "metadata": {
            "tags": []
          },
          "execution_count": 100
        },
        {
          "output_type": "display_data",
          "data": {
            "image/png": "[encoded data removed]",
            "text/plain": [
              "<Figure size 432x288 with 1 Axes>"
            ]
          },
          "metadata": {
            "tags": []
          }
        }
      ]
    },
    {
      "cell_type": "code",
      "metadata": {
        "id": "KjkkLzOgCrgM",
        "colab_type": "code",
        "colab": {}
      },
      "source": [
        ""
      ],
      "execution_count": 0,
      "outputs": []
    }
  ]
}